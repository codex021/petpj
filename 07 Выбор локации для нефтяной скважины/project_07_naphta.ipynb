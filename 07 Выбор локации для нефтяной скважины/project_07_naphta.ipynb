{
 "cells": [
  {
   "cell_type": "markdown",
   "metadata": {},
   "source": [
    "# Выбор локации для скважины"
   ]
  },
  {
   "cell_type": "markdown",
   "metadata": {},
   "source": [
    "Допустим, вы работаете в добывающей компании «ГлавРосГосНефть». Нужно решить, где бурить новую скважину.\n",
    "\n",
    "Вам предоставлены пробы нефти в трёх регионах: в каждом 10 000 месторождений, где измерили качество нефти и объём её запасов. Постройте модель машинного обучения, которая поможет определить регион, где добыча принесёт наибольшую прибыль. Проанализируйте возможную прибыль и риски техникой *Bootstrap.*\n",
    "\n",
    "Шаги для выбора локации:\n",
    "\n",
    "- В избранном регионе ищут месторождения, для каждого определяют значения признаков;\n",
    "- Строят модель и оценивают объём запасов;\n",
    "- Выбирают месторождения с самым высокими оценками значений. Количество месторождений зависит от бюджета компании и стоимости разработки одной скважины;\n",
    "- Прибыль равна суммарной прибыли отобранных месторождений."
   ]
  },
  {
   "cell_type": "code",
   "execution_count": 1,
   "metadata": {},
   "outputs": [],
   "source": [
    "import pandas as pd\n",
    "import numpy as np\n",
    "import scipy.stats as st\n",
    "\n",
    "from sklearn.model_selection import train_test_split\n",
    "from sklearn.metrics import mean_squared_error\n",
    "from sklearn.preprocessing import MinMaxScaler\n",
    "\n",
    "from sklearn.linear_model import LinearRegression\n",
    "\n",
    "import warnings\n",
    "warnings.filterwarnings('ignore')"
   ]
  },
  {
   "cell_type": "markdown",
   "metadata": {},
   "source": [
    "## Загрузка и подготовка данных"
   ]
  },
  {
   "cell_type": "code",
   "execution_count": 2,
   "metadata": {},
   "outputs": [
    {
     "name": "stdout",
     "output_type": "stream",
     "text": [
      "<class 'pandas.core.frame.DataFrame'>\n",
      "RangeIndex: 100000 entries, 0 to 99999\n",
      "Data columns (total 5 columns):\n",
      "id         100000 non-null object\n",
      "f0         100000 non-null float64\n",
      "f1         100000 non-null float64\n",
      "f2         100000 non-null float64\n",
      "product    100000 non-null float64\n",
      "dtypes: float64(4), object(1)\n",
      "memory usage: 3.8+ MB\n",
      "None\n",
      "<class 'pandas.core.frame.DataFrame'>\n",
      "RangeIndex: 100000 entries, 0 to 99999\n",
      "Data columns (total 5 columns):\n",
      "id         100000 non-null object\n",
      "f0         100000 non-null float64\n",
      "f1         100000 non-null float64\n",
      "f2         100000 non-null float64\n",
      "product    100000 non-null float64\n",
      "dtypes: float64(4), object(1)\n",
      "memory usage: 3.8+ MB\n",
      "None\n",
      "<class 'pandas.core.frame.DataFrame'>\n",
      "RangeIndex: 100000 entries, 0 to 99999\n",
      "Data columns (total 5 columns):\n",
      "id         100000 non-null object\n",
      "f0         100000 non-null float64\n",
      "f1         100000 non-null float64\n",
      "f2         100000 non-null float64\n",
      "product    100000 non-null float64\n",
      "dtypes: float64(4), object(1)\n",
      "memory usage: 3.8+ MB\n",
      "None\n"
     ]
    }
   ],
   "source": [
    "reg0 = pd.read_csv('/datasets/geo_data_0.csv')\n",
    "reg1 = pd.read_csv('/datasets/geo_data_1.csv')\n",
    "reg2 = pd.read_csv('/datasets/geo_data_2.csv')\n",
    "print(reg0.info())\n",
    "print(reg1.info())\n",
    "print(reg2.info())"
   ]
  },
  {
   "cell_type": "code",
   "execution_count": 3,
   "metadata": {},
   "outputs": [
    {
     "data": {
      "text/plain": [
       "<matplotlib.axes._subplots.AxesSubplot at 0x7f2fc6e57e50>"
      ]
     },
     "execution_count": 3,
     "metadata": {},
     "output_type": "execute_result"
    },
    {
     "data": {
      "image/png": "[encoded data removed]",
      "text/plain": [
       "<Figure size 432x288 with 1 Axes>"
      ]
     },
     "metadata": {
      "needs_background": "light"
     },
     "output_type": "display_data"
    }
   ],
   "source": [
    "reg0['product'].hist(bins=50,range=[0,190])"
   ]
  },
  {
   "cell_type": "code",
   "execution_count": 4,
   "metadata": {},
   "outputs": [
    {
     "data": {
      "text/plain": [
       "<matplotlib.axes._subplots.AxesSubplot at 0x7f2fc6e95810>"
      ]
     },
     "execution_count": 4,
     "metadata": {},
     "output_type": "execute_result"
    },
    {
     "data": {
      "image/png": "[encoded data removed]",
      "text/plain": [
       "<Figure size 432x288 with 1 Axes>"
      ]
     },
     "metadata": {
      "needs_background": "light"
     },
     "output_type": "display_data"
    }
   ],
   "source": [
    "reg1['product'].hist(bins=50,range=[0,190])"
   ]
  },
  {
   "cell_type": "code",
   "execution_count": 5,
   "metadata": {},
   "outputs": [
    {
     "data": {
      "text/plain": [
       "<matplotlib.axes._subplots.AxesSubplot at 0x7f2fbdfea5d0>"
      ]
     },
     "execution_count": 5,
     "metadata": {},
     "output_type": "execute_result"
    },
    {
     "data": {
      "image/png": "[encoded data removed]",
      "text/plain": [
       "<Figure size 432x288 with 1 Axes>"
      ]
     },
     "metadata": {
      "needs_background": "light"
     },
     "output_type": "display_data"
    }
   ],
   "source": [
    "reg2['product'].hist(bins=50,range=[0,190])"
   ]
  },
  {
   "cell_type": "markdown",
   "metadata": {},
   "source": [
    "Удаляем ненужный признак"
   ]
  },
  {
   "cell_type": "code",
   "execution_count": 6,
   "metadata": {},
   "outputs": [],
   "source": [
    "reg0 = reg0.drop('id', axis=1)\n",
    "reg1 = reg1.drop('id', axis=1)\n",
    "reg2 = reg2.drop('id', axis=1)"
   ]
  },
  {
   "cell_type": "code",
   "execution_count": 7,
   "metadata": {},
   "outputs": [
    {
     "name": "stdout",
     "output_type": "stream",
     "text": [
      "0.0    1\n",
      "Name: product, dtype: int64\n",
      "0.0    8235\n",
      "Name: product, dtype: int64\n",
      "0.0    1\n",
      "Name: product, dtype: int64\n"
     ]
    }
   ],
   "source": [
    "print(reg0[reg0['product'] == 0]['product'].value_counts())\n",
    "print(reg1[reg1['product'] == 0]['product'].value_counts())\n",
    "print(reg2[reg2['product'] == 0]['product'].value_counts())"
   ]
  },
  {
   "cell_type": "code",
   "execution_count": 8,
   "metadata": {},
   "outputs": [],
   "source": [
    "# reg0 = reg0[reg0['product'] != 0]\n",
    "# reg1 = reg1[reg1['product'] != 0]\n",
    "# reg2 = reg2[reg2['product'] != 0]"
   ]
  },
  {
   "cell_type": "markdown",
   "metadata": {},
   "source": [
    "### Вывод 1:"
   ]
  },
  {
   "cell_type": "markdown",
   "metadata": {},
   "source": [
    "Данные второго региона весьма непохожи на данные первого и третьего, что странно. Данные первого и третьего регионов похожи на нормальное распределение. Данные второго региона равномерно собраны по группам в 8000 примерно одинаковых значений. Возможно стоит отправить их на перепроверку."
   ]
  },
  {
   "cell_type": "markdown",
   "metadata": {},
   "source": [
    "## Обучение и проверка модели"
   ]
  },
  {
   "cell_type": "markdown",
   "metadata": {},
   "source": [
    "### Разделение данных"
   ]
  },
  {
   "cell_type": "code",
   "execution_count": 9,
   "metadata": {},
   "outputs": [],
   "source": [
    "def split(reg):\n",
    "    re_X = reg.drop('product', axis=1)\n",
    "    re_y = reg['product']\n",
    "    reg_X_train,reg_X_test,reg_y_train,reg_y_test = train_test_split(re_X,re_y,test_size=0.25)\n",
    "    print(reg_X_train.shape,reg_y_train.shape,reg_X_test.shape,reg_y_test.shape)\n",
    "    return reg_X_train, reg_y_train, reg_X_test, reg_y_test"
   ]
  },
  {
   "cell_type": "code",
   "execution_count": 10,
   "metadata": {},
   "outputs": [
    {
     "name": "stdout",
     "output_type": "stream",
     "text": [
      "(75000, 3) (75000,) (25000, 3) (25000,)\n",
      "(75000, 3) (75000,) (25000, 3) (25000,)\n",
      "(75000, 3) (75000,) (25000, 3) (25000,)\n"
     ]
    }
   ],
   "source": [
    "reg0_X_train,reg0_y_train,reg0_X_test,reg0_y_test = split(reg0)\n",
    "reg1_X_train,reg1_y_train,reg1_X_test,reg1_y_test = split(reg1)\n",
    "reg2_X_train,reg2_y_train,reg2_X_test,reg2_y_test = split(reg2)"
   ]
  },
  {
   "cell_type": "markdown",
   "metadata": {},
   "source": [
    "### Линейная регрессия"
   ]
  },
  {
   "cell_type": "code",
   "execution_count": 11,
   "metadata": {},
   "outputs": [],
   "source": [
    "def LR(f_train,t_train,f_test,t_test):\n",
    "    \n",
    "    scaler = MinMaxScaler()\n",
    "    f_train = scaler.fit_transform(f_train)\n",
    "    f_test = scaler.transform(f_test)\n",
    "    \n",
    "    model = LinearRegression()\n",
    "    model.fit(f_train,t_train)\n",
    "    prediction = model.predict(f_test)\n",
    "    prediction = pd.Series(prediction)\n",
    "    rmse = (mean_squared_error(t_test,prediction)**0.5)\n",
    "    mid_prod = sum(prediction) / len(prediction)\n",
    "    test = t_test.reset_index(drop=True)\n",
    "    return prediction, test, rmse, mid_prod"
   ]
  },
  {
   "cell_type": "markdown",
   "metadata": {},
   "source": [
    "### Обучение моделей"
   ]
  },
  {
   "cell_type": "code",
   "execution_count": 12,
   "metadata": {},
   "outputs": [],
   "source": [
    "prediction0, test0, rmse0, mid0 = LR(reg0_X_train,reg0_y_train,reg0_X_test,reg0_y_test)\n",
    "prediction1, test1, rmse1, mid1 = LR(reg1_X_train,reg1_y_train,reg1_X_test,reg1_y_test)\n",
    "prediction2, test2, rmse2, mid2 = LR(reg2_X_train,reg2_y_train,reg2_X_test,reg2_y_test)"
   ]
  },
  {
   "cell_type": "code",
   "execution_count": 13,
   "metadata": {},
   "outputs": [
    {
     "name": "stdout",
     "output_type": "stream",
     "text": [
      " RMSE 0:  37.77 Средний обьем в скважине: 92.49\n",
      " RMSE 1:  0.89 Средний обьем в скважине: 68.79\n",
      " RMSE 2:  39.93 Средний обьем в скважине: 95.01\n",
      "\n"
     ]
    }
   ],
   "source": [
    "print(' RMSE 0:  {0:.2f}'.format(rmse0),'Средний обьем в скважине: {0:.2f}\\n'.format(mid0),\n",
    "      'RMSE 1:  {0:.2f}'.format(rmse1),'Средний обьем в скважине: {0:.2f}\\n'.format(mid1),\n",
    "      'RMSE 2:  {0:.2f}'.format(rmse2),'Средний обьем в скважине: {0:.2f}\\n'.format(mid2))"
   ]
  },
  {
   "cell_type": "markdown",
   "metadata": {},
   "source": [
    "### Вывод 2:"
   ]
  },
  {
   "cell_type": "markdown",
   "metadata": {},
   "source": [
    "Обучены модели, подозрительно хорошо обучилась модель второго региона, причина видимо в странных данных. Определен средний обьем баррелей в скважине."
   ]
  },
  {
   "cell_type": "markdown",
   "metadata": {},
   "source": [
    "## Подготовка к расчёту прибыли"
   ]
  },
  {
   "cell_type": "code",
   "execution_count": 14,
   "metadata": {},
   "outputs": [],
   "source": [
    "budget = 10000000000\n",
    "barrel = 450000\n",
    "cp = 200\n",
    "p = 500"
   ]
  },
  {
   "cell_type": "code",
   "execution_count": 15,
   "metadata": {},
   "outputs": [
    {
     "name": "stdout",
     "output_type": "stream",
     "text": [
      "Минимум баррелей нужно добыть: 22222 тыс.\n"
     ]
    }
   ],
   "source": [
    "n = budget/barrel\n",
    "print('Минимум баррелей нужно добыть: {0:.0f} тыс.'.format(n))"
   ]
  },
  {
   "cell_type": "code",
   "execution_count": 16,
   "metadata": {},
   "outputs": [
    {
     "name": "stdout",
     "output_type": "stream",
     "text": [
      "Минимальный средний уровень нефти в скважине: 111 тыс.\n"
     ]
    }
   ],
   "source": [
    "mid_min = n/cp\n",
    "print('Минимальный средний уровень нефти в скважине: {0:.0f} тыс.'.format(mid_min))"
   ]
  },
  {
   "cell_type": "code",
   "execution_count": 17,
   "metadata": {},
   "outputs": [
    {
     "name": "stdout",
     "output_type": "stream",
     "text": [
      " Средний обьем в скважине первого региона: 92.49 \n",
      " Разность между средней и точкой безубыточности: -18.63\n",
      "\n",
      " Средний обьем в скважине второго региона: 68.79 \n",
      " Разность между средней и точкой безубыточности: -42.33\n",
      "\n",
      " Средний обьем в скважине третьего региона: 95.01 \n",
      " Разность между средней и точкой безубыточности: -16.10\n",
      "\n"
     ]
    }
   ],
   "source": [
    "print(' Средний обьем в скважине первого региона: {0:.2f} \\n Разность между средней и точкой безубыточности: {1:.2f}\\n\\n'\n",
    "      .format(mid0, mid0-mid_min),\n",
    "      'Средний обьем в скважине второго региона: {0:.2f} \\n Разность между средней и точкой безубыточности: {1:.2f}\\n\\n'\n",
    "      .format(mid1, mid1-mid_min),\n",
    "      'Средний обьем в скважине третьего региона: {0:.2f} \\n Разность между средней и точкой безубыточности: {1:.2f}\\n'\n",
    "      .format(mid2, mid2-mid_min))"
   ]
  },
  {
   "cell_type": "markdown",
   "metadata": {},
   "source": [
    "### Вывод 3: "
   ]
  },
  {
   "cell_type": "markdown",
   "metadata": {},
   "source": [
    "Минимальный средний уровень выше чем то что мы имеем по всем регионам. С другой стороны скважин с запасами больше минимального среднего тоже достаточно."
   ]
  },
  {
   "cell_type": "code",
   "execution_count": 18,
   "metadata": {},
   "outputs": [],
   "source": [
    "def profit(target,prob):\n",
    "    p_sorted = prob.sort_values(ascending=False)\n",
    "    selected = target[p_sorted.index][:200]\n",
    "    return barrel * selected.sum() - budget"
   ]
  },
  {
   "cell_type": "markdown",
   "metadata": {},
   "source": [
    "## Расчёт прибыли и рисков "
   ]
  },
  {
   "cell_type": "code",
   "execution_count": 19,
   "metadata": {},
   "outputs": [],
   "source": [
    "def bootstrap(target, prob):\n",
    "\n",
    "    state = np.random.RandomState(42)\n",
    "\n",
    "    values = []\n",
    "    for i in range(1000):\n",
    "        target_subsample = target.sample(500, replace=True, random_state=state)\n",
    "        probs_subsample = prob[target_subsample.index] \n",
    "        summ = profit(target_subsample,probs_subsample)\n",
    "        values.append(summ)\n",
    "\n",
    "    values = pd.Series(values)\n",
    "    lower = values.quantile(0.025)\n",
    "    upper = values.quantile(0.975)\n",
    "    mean = values.mean()\n",
    "    risk = st.percentileofscore(values, 0)\n",
    "    \n",
    "    return mean, lower, upper, risk"
   ]
  },
  {
   "cell_type": "code",
   "execution_count": 20,
   "metadata": {},
   "outputs": [],
   "source": [
    "mid_0, lower_0, upper_0, risk_0 = bootstrap(test0, prediction0)"
   ]
  },
  {
   "cell_type": "code",
   "execution_count": 21,
   "metadata": {},
   "outputs": [
    {
     "name": "stdout",
     "output_type": "stream",
     "text": [
      " Средний доход в первом регионе: 432060117 руб.\n",
      " 95% доверительный интервал от -130107302.57 до 963232402.39 руб.\n",
      " Риск: 6.4%\n"
     ]
    }
   ],
   "source": [
    "print(' Средний доход в первом регионе: {0:.0f} руб.\\n 95% доверительный интервал от {1:.2f} до {2:.2f} руб.\\n Риск: {3:.1f}%'\n",
    "      .format(mid_0, lower_0, upper_0, risk_0))"
   ]
  },
  {
   "cell_type": "code",
   "execution_count": 22,
   "metadata": {
    "scrolled": true
   },
   "outputs": [
    {
     "name": "stdout",
     "output_type": "stream",
     "text": [
      " Средний доход в первом регионе: 544717312 руб.\n",
      " 95% доверительный интервал от 128754559.74 до 965091961.27 руб.\n",
      " Риск: 0.7%\n"
     ]
    }
   ],
   "source": [
    "mid_1, lower_1, upper_1, risk_1 = bootstrap(test1, prediction1)\n",
    "print(' Средний доход в первом регионе: {0:.0f} руб.\\n 95% доверительный интервал от {1:.2f} до {2:.2f} руб.\\n Риск: {3:.1f}%'\n",
    "      .format(mid_1, lower_1, upper_1, risk_1))"
   ]
  },
  {
   "cell_type": "code",
   "execution_count": 23,
   "metadata": {},
   "outputs": [
    {
     "name": "stdout",
     "output_type": "stream",
     "text": [
      " Средний доход в первом регионе: 394751290 руб.\n",
      " 95% доверительный интервал от -137653570.50 до 920441202.38 руб.\n",
      " Риск: 8.7%\n"
     ]
    }
   ],
   "source": [
    "mid_2, lower_2, upper_2, risk_2 = bootstrap(test2, prediction2)\n",
    "print(' Средний доход в первом регионе: {0:.0f} руб.\\n 95% доверительный интервал от {1:.2f} до {2:.2f} руб.\\n Риск: {3:.1f}%'\n",
    "      .format(mid_2, lower_2, upper_2, risk_2))"
   ]
  },
  {
   "cell_type": "markdown",
   "metadata": {},
   "source": [
    "### Вывод 4:"
   ]
  },
  {
   "cell_type": "markdown",
   "metadata": {},
   "source": [
    "Рассчитаны доход, доверительный интервал и риск для каждого региона.\n",
    "Первый и третий регион сильно похожи друг на друга, второй сильно выбивается, скорее всего из-за нетипичных данных. Возможно стоит перепроверить данные второго региона, и если они соответствуют действительности то можно выбрать его. В противном случае попробовать провести дополнительную разведку месторождений или выбрать первый регион."
   ]
  }
 ],
 "metadata": {
  "kernelspec": {
   "display_name": "Python 3",
   "language": "python",
   "name": "python3"
  },
  "language_info": {
   "codemirror_mode": {
    "name": "ipython",
    "version": 3
   },
   "file_extension": ".py",
   "mimetype": "text/x-python",
   "name": "python",
   "nbconvert_exporter": "python",
   "pygments_lexer": "ipython3",
   "version": "3.8.0"
  },
  "toc": {
   "base_numbering": 1,
   "nav_menu": {},
   "number_sections": true,
   "sideBar": true,
   "skip_h1_title": true,
   "title_cell": "Table of Contents",
   "title_sidebar": "Contents",
   "toc_cell": false,
   "toc_position": {},
   "toc_section_display": true,
   "toc_window_display": false
  }
 },
 "nbformat": 4,
 "nbformat_minor": 4
}
