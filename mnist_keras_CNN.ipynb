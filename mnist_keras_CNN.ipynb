{
 "cells": [
  {
   "cell_type": "code",
   "execution_count": 1,
   "metadata": {},
   "outputs": [],
   "source": [
    "import tensorflow as tf\n",
    "import keras\n",
    "from keras.datasets import mnist\n",
    "from keras.models import Sequential\n",
    "from keras.layers import Dense, Dropout, Activation, Flatten\n",
    "from keras.layers import Conv2D, MaxPooling2D\n",
    "from keras.utils import np_utils\n",
    "import numpy as np\n",
    "\n",
    "\n",
    "np.random.seed(42)"
   ]
  },
  {
   "cell_type": "code",
   "execution_count": 2,
   "metadata": {},
   "outputs": [
    {
     "name": "stdout",
     "output_type": "stream",
     "text": [
      "Downloading data from https://storage.googleapis.com/tensorflow/tf-keras-datasets/mnist.npz\n",
      "11493376/11490434 [==============================] - 2s 0us/step\n",
      "(60000, 784) x_train\n",
      "(60000, 10) y_train\n",
      "(10000, 784) x_test\n",
      "(10000, 10) y_test\n"
     ]
    }
   ],
   "source": [
    "(x_train, y_train), (x_test, y_test) = mnist.load_data()\n",
    "\n",
    "x_train = x_train.reshape(60000, 784)\n",
    "x_test = x_test.reshape(10000, 784)\n",
    "\n",
    "x_train = x_train.astype(\"float32\")\n",
    "x_test = x_test.astype(\"float32\")\n",
    "\n",
    "x_train /= 255\n",
    "x_test /= 255\n",
    "\n",
    "y_train = np_utils.to_categorical(y_train, 10)\n",
    "y_test = np_utils.to_categorical(y_test, 10)\n",
    "\n",
    "print(x_train.shape, 'x_train')\n",
    "print(y_train.shape, 'y_train')\n",
    "print(x_test.shape, 'x_test')\n",
    "print(y_test.shape, 'y_test')"
   ]
  },
  {
   "cell_type": "code",
   "execution_count": 3,
   "metadata": {},
   "outputs": [
    {
     "name": "stdout",
     "output_type": "stream",
     "text": [
      "Model: \"sequential\"\n",
      "_________________________________________________________________\n",
      "Layer (type)                 Output Shape              Param #   \n",
      "=================================================================\n",
      "dense (Dense)                (None, 100)               78500     \n",
      "_________________________________________________________________\n",
      "dense_1 (Dense)              (None, 10)                1010      \n",
      "=================================================================\n",
      "Total params: 79,510\n",
      "Trainable params: 79,510\n",
      "Non-trainable params: 0\n",
      "_________________________________________________________________\n",
      "Epoch 1/5\n",
      "469/469 - 1s - loss: 0.3780 - accuracy: 0.8971 - val_loss: 0.2101 - val_accuracy: 0.9414\n",
      "Epoch 2/5\n",
      "469/469 - 1s - loss: 0.1755 - accuracy: 0.9503 - val_loss: 0.1533 - val_accuracy: 0.9550\n",
      "Epoch 3/5\n",
      "469/469 - 1s - loss: 0.1287 - accuracy: 0.9635 - val_loss: 0.1219 - val_accuracy: 0.9633\n",
      "Epoch 4/5\n",
      "469/469 - 1s - loss: 0.1026 - accuracy: 0.9707 - val_loss: 0.1024 - val_accuracy: 0.9699\n",
      "Epoch 5/5\n",
      "469/469 - 1s - loss: 0.0840 - accuracy: 0.9748 - val_loss: 0.0917 - val_accuracy: 0.9731\n",
      "Test accuracy: 0.9731000065803528\n"
     ]
    }
   ],
   "source": [
    "# полносвязная сеть\n",
    "model = Sequential()\n",
    "model.add(Dense(units=100, input_dim=784, activation='relu'))\n",
    "model.add(Dense(units=10, activation='softmax'))\n",
    "\n",
    "model.summary()\n",
    "model.compile(optimizer='adam', loss='categorical_crossentropy', metrics=['accuracy'])\n",
    "model.fit(x_train, y_train, batch_size=128, epochs=5, verbose=2, validation_data=(x_test, y_test))\n",
    "score,accuracy = model.evaluate(x_test, y_test,verbose=0)\n",
    "\n",
    "print('Test accuracy:', accuracy)"
   ]
  },
  {
   "cell_type": "code",
   "execution_count": 4,
   "metadata": {},
   "outputs": [
    {
     "name": "stdout",
     "output_type": "stream",
     "text": [
      "(60000, 28, 28, 1) x_train\n",
      "(60000, 10) y_train\n",
      "(10000, 28, 28, 1) x_test\n",
      "(10000, 10) y_test\n"
     ]
    }
   ],
   "source": [
    "(x_train, y_train), (x_test, y_test) = mnist.load_data()\n",
    "\n",
    "x_train = x_train.reshape(x_train.shape[0], 28, 28, 1)\n",
    "x_test = x_test.reshape(x_test.shape[0], 28, 28, 1)\n",
    "\n",
    "x_train = x_train.astype('float32')\n",
    "x_test = x_test.astype('float32')\n",
    "\n",
    "x_train /= 255\n",
    "x_test /= 255\n",
    "\n",
    "y_train = np_utils.to_categorical(y_train, 10)\n",
    "y_test = np_utils.to_categorical(y_test, 10)\n",
    "\n",
    "print(x_train.shape, 'x_train')\n",
    "print(y_train.shape, 'y_train')\n",
    "print(x_test.shape, 'x_test')\n",
    "print(y_test.shape, 'y_test')"
   ]
  },
  {
   "cell_type": "code",
   "execution_count": 6,
   "metadata": {},
   "outputs": [],
   "source": [
    "# сверточная сеть\n",
    "model = Sequential()\n",
    "\n",
    "model.add(Conv2D(32, (3, 3), padding='valid', input_shape=(28, 28, 1)))\n",
    "model.add(Activation('relu'))\n",
    "model.add(Conv2D(32, (3, 3), activation ='relu'))\n",
    "model.add(MaxPooling2D(pool_size=(2, 2)))\n",
    "model.add(Dropout(0.25))\n",
    "model.add(Flatten())\n",
    "model.add(Dense(128))\n",
    "model.add(Activation('relu'))\n",
    "model.add(Dropout(0.5))\n",
    "model.add(Dense(10))\n",
    "model.add(Activation('softmax'))"
   ]
  },
  {
   "cell_type": "code",
   "execution_count": 7,
   "metadata": {},
   "outputs": [
    {
     "name": "stdout",
     "output_type": "stream",
     "text": [
      "Model: \"sequential_2\"\n",
      "_________________________________________________________________\n",
      "Layer (type)                 Output Shape              Param #   \n",
      "=================================================================\n",
      "conv2d_2 (Conv2D)            (None, 26, 26, 32)        320       \n",
      "_________________________________________________________________\n",
      "activation_3 (Activation)    (None, 26, 26, 32)        0         \n",
      "_________________________________________________________________\n",
      "conv2d_3 (Conv2D)            (None, 24, 24, 32)        9248      \n",
      "_________________________________________________________________\n",
      "max_pooling2d_1 (MaxPooling2 (None, 12, 12, 32)        0         \n",
      "_________________________________________________________________\n",
      "dropout_2 (Dropout)          (None, 12, 12, 32)        0         \n",
      "_________________________________________________________________\n",
      "flatten_1 (Flatten)          (None, 4608)              0         \n",
      "_________________________________________________________________\n",
      "dense_4 (Dense)              (None, 128)               589952    \n",
      "_________________________________________________________________\n",
      "activation_4 (Activation)    (None, 128)               0         \n",
      "_________________________________________________________________\n",
      "dropout_3 (Dropout)          (None, 128)               0         \n",
      "_________________________________________________________________\n",
      "dense_5 (Dense)              (None, 10)                1290      \n",
      "_________________________________________________________________\n",
      "activation_5 (Activation)    (None, 10)                0         \n",
      "=================================================================\n",
      "Total params: 600,810\n",
      "Trainable params: 600,810\n",
      "Non-trainable params: 0\n",
      "_________________________________________________________________\n",
      "Epoch 1/5\n",
      "469/469 - 44s - loss: 0.2639 - accuracy: 0.9197 - val_loss: 0.0543 - val_accuracy: 0.9828\n",
      "Epoch 2/5\n",
      "469/469 - 47s - loss: 0.0949 - accuracy: 0.9720 - val_loss: 0.0406 - val_accuracy: 0.9862\n",
      "Epoch 3/5\n",
      "469/469 - 48s - loss: 0.0701 - accuracy: 0.9785 - val_loss: 0.0417 - val_accuracy: 0.9859\n",
      "Epoch 4/5\n",
      "469/469 - 44s - loss: 0.0575 - accuracy: 0.9819 - val_loss: 0.0302 - val_accuracy: 0.9901\n",
      "Epoch 5/5\n",
      "469/469 - 40s - loss: 0.0506 - accuracy: 0.9847 - val_loss: 0.0324 - val_accuracy: 0.9888\n",
      "Test accuracy: 0.9887999892234802\n"
     ]
    }
   ],
   "source": [
    "model.summary()\n",
    "model.compile(optimizer='adam', loss='categorical_crossentropy', metrics=['accuracy'])\n",
    "model.fit(x_train, y_train, batch_size=128, epochs=5, verbose=2, validation_data=(x_test, y_test))\n",
    "score,accuracy = model.evaluate(x_test, y_test,verbose=0)\n",
    "\n",
    "print('Test accuracy:', accuracy)"
   ]
  },
  {
   "cell_type": "markdown",
   "metadata": {},
   "source": [
    "В целом полносвязная сеть хорошо справляется с датасетом MNIST - точность на уровне 97%, но сверточная сеть при существенном конечно приросте времени на обучение справляется еще лучше - почти 99% точности на тестовом наборе."
   ]
  },
  {
   "cell_type": "code",
   "execution_count": null,
   "metadata": {},
   "outputs": [],
   "source": []
  }
 ],
 "metadata": {
  "kernelspec": {
   "display_name": "Python 3",
   "language": "python",
   "name": "python3"
  },
  "language_info": {
   "codemirror_mode": {
    "name": "ipython",
    "version": 3
   },
   "file_extension": ".py",
   "mimetype": "text/x-python",
   "name": "python",
   "nbconvert_exporter": "python",
   "pygments_lexer": "ipython3",
   "version": "3.8.5"
  }
 },
 "nbformat": 4,
 "nbformat_minor": 4
}
