{
 "cells": [
  {
   "cell_type": "markdown",
   "metadata": {},
   "source": [
    "# Исследование тарифов мобильного оператора"
   ]
  },
  {
   "cell_type": "markdown",
   "metadata": {},
   "source": [
    "## Оглавление\n",
    "\n",
    "\n",
    "<a name=\"All\"></a>\n",
    "\n",
    "* [1. Общая информация](#Step1)\n",
    "* [2. Подготовка данных](#Step2)\n",
    "* [3. Анализ данных](#Step3)\n",
    "* [4. Проверка гипотез](#Step4)\n",
    "* [5. Общий вывод](#Step5)"
   ]
  },
  {
   "cell_type": "markdown",
   "metadata": {},
   "source": [
    "        Вы аналитик компании «Мегалайн» — федерального оператора сотовой связи. Клиентам предлагают два тарифных плана: «Смарт» и «Ультра». Чтобы скорректировать рекламный бюджет, коммерческий департамент хочет понять, какой тариф приносит больше денег.\n",
    "        Вам предстоит сделать предварительный анализ тарифов на небольшой выборке клиентов. В вашем распоряжении данные 500 пользователей «Мегалайна»: кто они, откуда, каким тарифом пользуются, сколько звонков и сообщений каждый отправил за 2018 год. Нужно проанализировать поведение клиентов и сделать вывод — какой тариф лучше."
   ]
  },
  {
   "cell_type": "markdown",
   "metadata": {},
   "source": [
    "### Описание тарифов\n",
    "###        Тариф «Смарт»\n",
    "    Ежемесячная плата: 550 рублей\n",
    "    Включено 500 минут разговора, 50 сообщений и 15 Гб интернет-трафика\n",
    "    Стоимость услуг сверх тарифного пакета:\n",
    "        - минута разговора: 3 рубля\n",
    "        - сообщение: 3 рубля\n",
    "        - 1 Гб интернет-трафика: 200 рублей\n",
    "###        Тариф «Ультра»\n",
    "    Ежемесячная плата: 1950 рублей\n",
    "    Включено 3000 минут разговора, 1000 сообщений и 30 Гб интернет-трафика\n",
    "    Стоимость услуг сверх тарифного пакета:\n",
    "        - минута разговора: 1 рубль\n",
    "        - сообщение: 1 рубль\n",
    "        - 1 Гб интернет-трафика: 150 рублей\n",
    "    Обратите внимание: «Мегалайн» всегда округляет вверх значения минут и мегабайтов. Если пользователь проговорил всего 1 секунду, в тарифе засчитывается целая минута."
   ]
  },
  {
   "cell_type": "markdown",
   "metadata": {},
   "source": [
    "  ###  Описание данных\n",
    "  ### Таблица users (информация о пользователях):\n",
    "  \n",
    "   - user_id — уникальный идентификатор пользователя\n",
    "   - first_name — имя пользователя\n",
    "   - last_name — фамилия пользователя\n",
    "   - age — возраст пользователя (годы)\n",
    "   - reg_date — дата подключения тарифа (день, месяц, год)\n",
    "   - churn_date — дата прекращения пользования тарифом (если значение пропущено, то тариф ещё действовал на момент выгрузки данных)\n",
    "   - city — город проживания пользователя\n",
    "   - tariff — название тарифного плана\n",
    "   \n",
    "### Таблица calls (информация о звонках):\n",
    "\n",
    "   - id — уникальный номер звонка\n",
    "   - call_date — дата звонка\n",
    "   - duration — длительность звонка в минутах\n",
    "   - user_id — идентификатор пользователя, сделавшего звонок\n",
    "   \n",
    "### Таблица messages (информация о сообщениях):\n",
    "\n",
    "   - id — уникальный номер сообщения\n",
    "   - message_date — дата сообщения\n",
    "   - user_id — идентификатор пользователя, отправившего сообщение\n",
    "   \n",
    "### Таблица internet (информация об интернет-сессиях):\n",
    "\n",
    "   - id — уникальный номер сессии\n",
    "   - mb_used — объём потраченного за сессию интернет-трафика (в мегабайтах)\n",
    "   - session_date — дата интернет-сессии\n",
    "   - user_id — идентификатор пользователя\n",
    "   \n",
    "### Таблица tariffs (информация о тарифах):\n",
    "\n",
    "   - tariff_name — название тарифа\n",
    "   - rub_monthly_fee — ежемесячная абонентская плата в рублях\n",
    "   - minutes_included — количество минут разговора в месяц, включённых в абонентскую плату\n",
    "   - messages_included — количество сообщений в месяц, включённых в абонентскую плату\n",
    "   - mb_per_month_included — объём интернет-трафика, включённого в абонентскую плату (в мегабайтах)\n",
    "   - rub_per_minute — стоимость минуты разговора сверх тарифного пакета (например, если в тарифе 100 минут разговора в месяц, то со 101 минуты будет взиматься плата)\n",
    "   - rub_per_message — стоимость отправки сообщения сверх тарифного пакета\n",
    "   - rub_per_gb — стоимость дополнительного гигабайта интернет-трафика сверх тарифного пакета (1 гигабайт = 1024 мегабайта)"
   ]
  },
  {
   "cell_type": "markdown",
   "metadata": {},
   "source": [
    "### <a name=\"Step1\"></a> Шаг 1. Откройте файл с данными и изучите общую информацию.  \n",
    "\n",
    "[Наверх](#All)"
   ]
  },
  {
   "cell_type": "code",
   "execution_count": 1,
   "metadata": {},
   "outputs": [],
   "source": [
    "import pandas as pd\n",
    "import numpy as np\n",
    "from math import ceil\n",
    "import seaborn as sns\n",
    "import matplotlib.pyplot as plt\n",
    "from scipy import stats as st"
   ]
  },
  {
   "cell_type": "code",
   "execution_count": 2,
   "metadata": {},
   "outputs": [],
   "source": [
    "calls = pd.read_csv('/datasets/calls.csv')\n",
    "internet = pd.read_csv('/datasets/internet.csv')\n",
    "messages = pd.read_csv('/datasets/messages.csv')\n",
    "tariffs = pd.read_csv('/datasets/tariffs.csv')\n",
    "users = pd.read_csv('/datasets/users.csv')"
   ]
  },
  {
   "cell_type": "code",
   "execution_count": 3,
   "metadata": {},
   "outputs": [
    {
     "data": {
      "text/html": [
       "<div>\n",
       "<style scoped>\n",
       "    .dataframe tbody tr th:only-of-type {\n",
       "        vertical-align: middle;\n",
       "    }\n",
       "\n",
       "    .dataframe tbody tr th {\n",
       "        vertical-align: top;\n",
       "    }\n",
       "\n",
       "    .dataframe thead th {\n",
       "        text-align: right;\n",
       "    }\n",
       "</style>\n",
       "<table border=\"1\" class=\"dataframe\">\n",
       "  <thead>\n",
       "    <tr style=\"text-align: right;\">\n",
       "      <th></th>\n",
       "      <th>user_id</th>\n",
       "      <th>age</th>\n",
       "      <th>churn_date</th>\n",
       "      <th>city</th>\n",
       "      <th>first_name</th>\n",
       "      <th>last_name</th>\n",
       "      <th>reg_date</th>\n",
       "      <th>tariff</th>\n",
       "    </tr>\n",
       "  </thead>\n",
       "  <tbody>\n",
       "    <tr>\n",
       "      <td>0</td>\n",
       "      <td>1000</td>\n",
       "      <td>52</td>\n",
       "      <td>NaN</td>\n",
       "      <td>Краснодар</td>\n",
       "      <td>Рафаил</td>\n",
       "      <td>Верещагин</td>\n",
       "      <td>2018-05-25</td>\n",
       "      <td>ultra</td>\n",
       "    </tr>\n",
       "    <tr>\n",
       "      <td>1</td>\n",
       "      <td>1001</td>\n",
       "      <td>41</td>\n",
       "      <td>NaN</td>\n",
       "      <td>Москва</td>\n",
       "      <td>Иван</td>\n",
       "      <td>Ежов</td>\n",
       "      <td>2018-11-01</td>\n",
       "      <td>smart</td>\n",
       "    </tr>\n",
       "    <tr>\n",
       "      <td>2</td>\n",
       "      <td>1002</td>\n",
       "      <td>59</td>\n",
       "      <td>NaN</td>\n",
       "      <td>Стерлитамак</td>\n",
       "      <td>Евгений</td>\n",
       "      <td>Абрамович</td>\n",
       "      <td>2018-06-17</td>\n",
       "      <td>smart</td>\n",
       "    </tr>\n",
       "  </tbody>\n",
       "</table>\n",
       "</div>"
      ],
      "text/plain": [
       "   user_id  age churn_date         city first_name  last_name    reg_date  \\\n",
       "0     1000   52        NaN    Краснодар     Рафаил  Верещагин  2018-05-25   \n",
       "1     1001   41        NaN       Москва       Иван       Ежов  2018-11-01   \n",
       "2     1002   59        NaN  Стерлитамак    Евгений  Абрамович  2018-06-17   \n",
       "\n",
       "  tariff  \n",
       "0  ultra  \n",
       "1  smart  \n",
       "2  smart  "
      ]
     },
     "execution_count": 3,
     "metadata": {},
     "output_type": "execute_result"
    }
   ],
   "source": [
    "users.head(3)"
   ]
  },
  {
   "cell_type": "code",
   "execution_count": 4,
   "metadata": {},
   "outputs": [
    {
     "name": "stdout",
     "output_type": "stream",
     "text": [
      "<class 'pandas.core.frame.DataFrame'>\n",
      "RangeIndex: 500 entries, 0 to 499\n",
      "Data columns (total 8 columns):\n",
      "user_id       500 non-null int64\n",
      "age           500 non-null int64\n",
      "churn_date    38 non-null object\n",
      "city          500 non-null object\n",
      "first_name    500 non-null object\n",
      "last_name     500 non-null object\n",
      "reg_date      500 non-null object\n",
      "tariff        500 non-null object\n",
      "dtypes: int64(2), object(6)\n",
      "memory usage: 31.4+ KB\n"
     ]
    }
   ],
   "source": [
    "users.info()"
   ]
  },
  {
   "cell_type": "code",
   "execution_count": 5,
   "metadata": {},
   "outputs": [
    {
     "data": {
      "text/html": [
       "<div>\n",
       "<style scoped>\n",
       "    .dataframe tbody tr th:only-of-type {\n",
       "        vertical-align: middle;\n",
       "    }\n",
       "\n",
       "    .dataframe tbody tr th {\n",
       "        vertical-align: top;\n",
       "    }\n",
       "\n",
       "    .dataframe thead th {\n",
       "        text-align: right;\n",
       "    }\n",
       "</style>\n",
       "<table border=\"1\" class=\"dataframe\">\n",
       "  <thead>\n",
       "    <tr style=\"text-align: right;\">\n",
       "      <th></th>\n",
       "      <th>id</th>\n",
       "      <th>call_date</th>\n",
       "      <th>duration</th>\n",
       "      <th>user_id</th>\n",
       "    </tr>\n",
       "  </thead>\n",
       "  <tbody>\n",
       "    <tr>\n",
       "      <td>0</td>\n",
       "      <td>1000_0</td>\n",
       "      <td>2018-07-25</td>\n",
       "      <td>0.00</td>\n",
       "      <td>1000</td>\n",
       "    </tr>\n",
       "    <tr>\n",
       "      <td>1</td>\n",
       "      <td>1000_1</td>\n",
       "      <td>2018-08-17</td>\n",
       "      <td>0.00</td>\n",
       "      <td>1000</td>\n",
       "    </tr>\n",
       "    <tr>\n",
       "      <td>2</td>\n",
       "      <td>1000_2</td>\n",
       "      <td>2018-06-11</td>\n",
       "      <td>2.85</td>\n",
       "      <td>1000</td>\n",
       "    </tr>\n",
       "  </tbody>\n",
       "</table>\n",
       "</div>"
      ],
      "text/plain": [
       "       id   call_date  duration  user_id\n",
       "0  1000_0  2018-07-25      0.00     1000\n",
       "1  1000_1  2018-08-17      0.00     1000\n",
       "2  1000_2  2018-06-11      2.85     1000"
      ]
     },
     "execution_count": 5,
     "metadata": {},
     "output_type": "execute_result"
    }
   ],
   "source": [
    "calls.head(3)"
   ]
  },
  {
   "cell_type": "code",
   "execution_count": 6,
   "metadata": {},
   "outputs": [
    {
     "name": "stdout",
     "output_type": "stream",
     "text": [
      "<class 'pandas.core.frame.DataFrame'>\n",
      "RangeIndex: 202607 entries, 0 to 202606\n",
      "Data columns (total 4 columns):\n",
      "id           202607 non-null object\n",
      "call_date    202607 non-null object\n",
      "duration     202607 non-null float64\n",
      "user_id      202607 non-null int64\n",
      "dtypes: float64(1), int64(1), object(2)\n",
      "memory usage: 6.2+ MB\n"
     ]
    }
   ],
   "source": [
    "calls.info()"
   ]
  },
  {
   "cell_type": "code",
   "execution_count": 7,
   "metadata": {},
   "outputs": [
    {
     "data": {
      "text/html": [
       "<div>\n",
       "<style scoped>\n",
       "    .dataframe tbody tr th:only-of-type {\n",
       "        vertical-align: middle;\n",
       "    }\n",
       "\n",
       "    .dataframe tbody tr th {\n",
       "        vertical-align: top;\n",
       "    }\n",
       "\n",
       "    .dataframe thead th {\n",
       "        text-align: right;\n",
       "    }\n",
       "</style>\n",
       "<table border=\"1\" class=\"dataframe\">\n",
       "  <thead>\n",
       "    <tr style=\"text-align: right;\">\n",
       "      <th></th>\n",
       "      <th>Unnamed: 0</th>\n",
       "      <th>id</th>\n",
       "      <th>mb_used</th>\n",
       "      <th>session_date</th>\n",
       "      <th>user_id</th>\n",
       "    </tr>\n",
       "  </thead>\n",
       "  <tbody>\n",
       "    <tr>\n",
       "      <td>0</td>\n",
       "      <td>0</td>\n",
       "      <td>1000_0</td>\n",
       "      <td>112.95</td>\n",
       "      <td>2018-11-25</td>\n",
       "      <td>1000</td>\n",
       "    </tr>\n",
       "    <tr>\n",
       "      <td>1</td>\n",
       "      <td>1</td>\n",
       "      <td>1000_1</td>\n",
       "      <td>1052.81</td>\n",
       "      <td>2018-09-07</td>\n",
       "      <td>1000</td>\n",
       "    </tr>\n",
       "    <tr>\n",
       "      <td>2</td>\n",
       "      <td>2</td>\n",
       "      <td>1000_2</td>\n",
       "      <td>1197.26</td>\n",
       "      <td>2018-06-25</td>\n",
       "      <td>1000</td>\n",
       "    </tr>\n",
       "  </tbody>\n",
       "</table>\n",
       "</div>"
      ],
      "text/plain": [
       "   Unnamed: 0      id  mb_used session_date  user_id\n",
       "0           0  1000_0   112.95   2018-11-25     1000\n",
       "1           1  1000_1  1052.81   2018-09-07     1000\n",
       "2           2  1000_2  1197.26   2018-06-25     1000"
      ]
     },
     "execution_count": 7,
     "metadata": {},
     "output_type": "execute_result"
    }
   ],
   "source": [
    "internet.head(3)"
   ]
  },
  {
   "cell_type": "code",
   "execution_count": 8,
   "metadata": {},
   "outputs": [
    {
     "name": "stdout",
     "output_type": "stream",
     "text": [
      "<class 'pandas.core.frame.DataFrame'>\n",
      "RangeIndex: 149396 entries, 0 to 149395\n",
      "Data columns (total 5 columns):\n",
      "Unnamed: 0      149396 non-null int64\n",
      "id              149396 non-null object\n",
      "mb_used         149396 non-null float64\n",
      "session_date    149396 non-null object\n",
      "user_id         149396 non-null int64\n",
      "dtypes: float64(1), int64(2), object(2)\n",
      "memory usage: 5.7+ MB\n"
     ]
    }
   ],
   "source": [
    "internet.info()"
   ]
  },
  {
   "cell_type": "code",
   "execution_count": 9,
   "metadata": {},
   "outputs": [
    {
     "data": {
      "text/html": [
       "<div>\n",
       "<style scoped>\n",
       "    .dataframe tbody tr th:only-of-type {\n",
       "        vertical-align: middle;\n",
       "    }\n",
       "\n",
       "    .dataframe tbody tr th {\n",
       "        vertical-align: top;\n",
       "    }\n",
       "\n",
       "    .dataframe thead th {\n",
       "        text-align: right;\n",
       "    }\n",
       "</style>\n",
       "<table border=\"1\" class=\"dataframe\">\n",
       "  <thead>\n",
       "    <tr style=\"text-align: right;\">\n",
       "      <th></th>\n",
       "      <th>Unnamed: 0</th>\n",
       "      <th>id</th>\n",
       "      <th>mb_used</th>\n",
       "      <th>session_date</th>\n",
       "      <th>user_id</th>\n",
       "    </tr>\n",
       "  </thead>\n",
       "  <tbody>\n",
       "    <tr>\n",
       "      <td>0</td>\n",
       "      <td>0</td>\n",
       "      <td>1000_0</td>\n",
       "      <td>112.95</td>\n",
       "      <td>2018-11-25</td>\n",
       "      <td>1000</td>\n",
       "    </tr>\n",
       "    <tr>\n",
       "      <td>1</td>\n",
       "      <td>1</td>\n",
       "      <td>1000_1</td>\n",
       "      <td>1052.81</td>\n",
       "      <td>2018-09-07</td>\n",
       "      <td>1000</td>\n",
       "    </tr>\n",
       "    <tr>\n",
       "      <td>2</td>\n",
       "      <td>2</td>\n",
       "      <td>1000_2</td>\n",
       "      <td>1197.26</td>\n",
       "      <td>2018-06-25</td>\n",
       "      <td>1000</td>\n",
       "    </tr>\n",
       "  </tbody>\n",
       "</table>\n",
       "</div>"
      ],
      "text/plain": [
       "   Unnamed: 0      id  mb_used session_date  user_id\n",
       "0           0  1000_0   112.95   2018-11-25     1000\n",
       "1           1  1000_1  1052.81   2018-09-07     1000\n",
       "2           2  1000_2  1197.26   2018-06-25     1000"
      ]
     },
     "execution_count": 9,
     "metadata": {},
     "output_type": "execute_result"
    }
   ],
   "source": [
    "internet.head(3)"
   ]
  },
  {
   "cell_type": "code",
   "execution_count": 10,
   "metadata": {},
   "outputs": [
    {
     "data": {
      "text/html": [
       "<div>\n",
       "<style scoped>\n",
       "    .dataframe tbody tr th:only-of-type {\n",
       "        vertical-align: middle;\n",
       "    }\n",
       "\n",
       "    .dataframe tbody tr th {\n",
       "        vertical-align: top;\n",
       "    }\n",
       "\n",
       "    .dataframe thead th {\n",
       "        text-align: right;\n",
       "    }\n",
       "</style>\n",
       "<table border=\"1\" class=\"dataframe\">\n",
       "  <thead>\n",
       "    <tr style=\"text-align: right;\">\n",
       "      <th></th>\n",
       "      <th>id</th>\n",
       "      <th>message_date</th>\n",
       "      <th>user_id</th>\n",
       "    </tr>\n",
       "  </thead>\n",
       "  <tbody>\n",
       "    <tr>\n",
       "      <td>0</td>\n",
       "      <td>1000_0</td>\n",
       "      <td>2018-06-27</td>\n",
       "      <td>1000</td>\n",
       "    </tr>\n",
       "    <tr>\n",
       "      <td>1</td>\n",
       "      <td>1000_1</td>\n",
       "      <td>2018-10-08</td>\n",
       "      <td>1000</td>\n",
       "    </tr>\n",
       "    <tr>\n",
       "      <td>2</td>\n",
       "      <td>1000_2</td>\n",
       "      <td>2018-08-04</td>\n",
       "      <td>1000</td>\n",
       "    </tr>\n",
       "  </tbody>\n",
       "</table>\n",
       "</div>"
      ],
      "text/plain": [
       "       id message_date  user_id\n",
       "0  1000_0   2018-06-27     1000\n",
       "1  1000_1   2018-10-08     1000\n",
       "2  1000_2   2018-08-04     1000"
      ]
     },
     "execution_count": 10,
     "metadata": {},
     "output_type": "execute_result"
    }
   ],
   "source": [
    "messages.head(3)"
   ]
  },
  {
   "cell_type": "code",
   "execution_count": 11,
   "metadata": {},
   "outputs": [
    {
     "name": "stdout",
     "output_type": "stream",
     "text": [
      "<class 'pandas.core.frame.DataFrame'>\n",
      "RangeIndex: 123036 entries, 0 to 123035\n",
      "Data columns (total 3 columns):\n",
      "id              123036 non-null object\n",
      "message_date    123036 non-null object\n",
      "user_id         123036 non-null int64\n",
      "dtypes: int64(1), object(2)\n",
      "memory usage: 2.8+ MB\n"
     ]
    }
   ],
   "source": [
    "messages.info()"
   ]
  },
  {
   "cell_type": "markdown",
   "metadata": {},
   "source": [
    "Поменять тип данных где дата на datetime. Убрать лишний столбец из таблички internet."
   ]
  },
  {
   "cell_type": "markdown",
   "metadata": {},
   "source": [
    "## <a name=\"Step2\"></a> 2. Подготовка данных\n",
    "\n",
    "[Наверх](#All)"
   ]
  },
  {
   "cell_type": "markdown",
   "metadata": {},
   "source": [
    "Удаляем лишний столбец из таблички internet"
   ]
  },
  {
   "cell_type": "code",
   "execution_count": 12,
   "metadata": {},
   "outputs": [],
   "source": [
    "internet = internet.drop('Unnamed: 0', axis=1)"
   ]
  },
  {
   "cell_type": "markdown",
   "metadata": {},
   "source": [
    "Надо преобразовать столбцы с датами в формат 'datetime'. Затем выделим из даты месяц и запишем в отдельный столбец 'month'."
   ]
  },
  {
   "cell_type": "code",
   "execution_count": 13,
   "metadata": {},
   "outputs": [],
   "source": [
    "calls['call_date'] = pd.to_datetime(calls['call_date'])\n",
    "messages['message_date'] = pd.to_datetime(messages['message_date'])\n",
    "internet['session_date'] = pd.to_datetime(internet['session_date'])"
   ]
  },
  {
   "cell_type": "code",
   "execution_count": 14,
   "metadata": {},
   "outputs": [],
   "source": [
    "calls['month'] = calls['call_date'].dt.month\n",
    "messages['month'] = messages['message_date'].dt.month\n",
    "internet['month'] = internet['session_date'].dt.month"
   ]
  },
  {
   "cell_type": "markdown",
   "metadata": {},
   "source": [
    "Для удобства подсчета количества звонков, количества сообщений и юзеров создадим отдельные столбцы в нужных табличках."
   ]
  },
  {
   "cell_type": "code",
   "execution_count": 15,
   "metadata": {},
   "outputs": [],
   "source": [
    "messages['messages_count'] = 1\n",
    "calls['calls_count'] = 1\n",
    "users['user_count'] = 1"
   ]
  },
  {
   "cell_type": "markdown",
   "metadata": {},
   "source": [
    "Приведем звонки и мегабайты к целым округлив до верхнего значения посредством функции 'ceil'."
   ]
  },
  {
   "cell_type": "code",
   "execution_count": 16,
   "metadata": {},
   "outputs": [],
   "source": [
    "calls['duration'] = calls['duration'].apply(ceil)\n",
    "internet['mb_used'] = internet['mb_used'].apply(ceil)"
   ]
  },
  {
   "cell_type": "markdown",
   "metadata": {},
   "source": [
    "Просуммируем помесячно и по юзерам, потраченные мегабайты, длительность звонков и количество сообщений."
   ]
  },
  {
   "cell_type": "code",
   "execution_count": 17,
   "metadata": {},
   "outputs": [],
   "source": [
    "internet_s = internet.groupby(['user_id','month']).sum().reset_index()\n",
    "calls_s = calls.groupby(['user_id','month']).sum().reset_index()\n",
    "messages_s = messages.groupby(['user_id','month']).sum().reset_index()"
   ]
  },
  {
   "cell_type": "markdown",
   "metadata": {},
   "source": [
    "На данном этапе из таблички users нам ны только city, user_id и tariff, поэтому делаем новую табличку."
   ]
  },
  {
   "cell_type": "code",
   "execution_count": 18,
   "metadata": {},
   "outputs": [],
   "source": [
    "users_s = users[['user_id','tariff','city']]"
   ]
  },
  {
   "cell_type": "markdown",
   "metadata": {},
   "source": [
    "Складываем все данные в новую табличку."
   ]
  },
  {
   "cell_type": "code",
   "execution_count": 19,
   "metadata": {},
   "outputs": [],
   "source": [
    "users_s = calls_s.merge(users_s,how='outer',on=['user_id'])\n",
    "users_s = internet_s.merge(users_s,how='outer',on=['user_id','month'])\n",
    "users_s = messages_s.merge(users_s,how='outer',on=['user_id','month'])"
   ]
  },
  {
   "cell_type": "code",
   "execution_count": 20,
   "metadata": {},
   "outputs": [
    {
     "data": {
      "text/html": [
       "<div>\n",
       "<style scoped>\n",
       "    .dataframe tbody tr th:only-of-type {\n",
       "        vertical-align: middle;\n",
       "    }\n",
       "\n",
       "    .dataframe tbody tr th {\n",
       "        vertical-align: top;\n",
       "    }\n",
       "\n",
       "    .dataframe thead th {\n",
       "        text-align: right;\n",
       "    }\n",
       "</style>\n",
       "<table border=\"1\" class=\"dataframe\">\n",
       "  <thead>\n",
       "    <tr style=\"text-align: right;\">\n",
       "      <th></th>\n",
       "      <th>user_id</th>\n",
       "      <th>month</th>\n",
       "      <th>messages_count</th>\n",
       "      <th>mb_used</th>\n",
       "      <th>duration</th>\n",
       "      <th>calls_count</th>\n",
       "      <th>tariff</th>\n",
       "      <th>city</th>\n",
       "    </tr>\n",
       "  </thead>\n",
       "  <tbody>\n",
       "    <tr>\n",
       "      <td>0</td>\n",
       "      <td>1000</td>\n",
       "      <td>5.0</td>\n",
       "      <td>22.0</td>\n",
       "      <td>2256.0</td>\n",
       "      <td>159.0</td>\n",
       "      <td>22.0</td>\n",
       "      <td>ultra</td>\n",
       "      <td>Краснодар</td>\n",
       "    </tr>\n",
       "    <tr>\n",
       "      <td>1</td>\n",
       "      <td>1000</td>\n",
       "      <td>6.0</td>\n",
       "      <td>60.0</td>\n",
       "      <td>23257.0</td>\n",
       "      <td>172.0</td>\n",
       "      <td>43.0</td>\n",
       "      <td>ultra</td>\n",
       "      <td>Краснодар</td>\n",
       "    </tr>\n",
       "    <tr>\n",
       "      <td>2</td>\n",
       "      <td>1000</td>\n",
       "      <td>7.0</td>\n",
       "      <td>75.0</td>\n",
       "      <td>14016.0</td>\n",
       "      <td>340.0</td>\n",
       "      <td>47.0</td>\n",
       "      <td>ultra</td>\n",
       "      <td>Краснодар</td>\n",
       "    </tr>\n",
       "    <tr>\n",
       "      <td>3</td>\n",
       "      <td>1000</td>\n",
       "      <td>8.0</td>\n",
       "      <td>81.0</td>\n",
       "      <td>14070.0</td>\n",
       "      <td>408.0</td>\n",
       "      <td>52.0</td>\n",
       "      <td>ultra</td>\n",
       "      <td>Краснодар</td>\n",
       "    </tr>\n",
       "    <tr>\n",
       "      <td>4</td>\n",
       "      <td>1000</td>\n",
       "      <td>9.0</td>\n",
       "      <td>57.0</td>\n",
       "      <td>14581.0</td>\n",
       "      <td>466.0</td>\n",
       "      <td>58.0</td>\n",
       "      <td>ultra</td>\n",
       "      <td>Краснодар</td>\n",
       "    </tr>\n",
       "    <tr>\n",
       "      <td>...</td>\n",
       "      <td>...</td>\n",
       "      <td>...</td>\n",
       "      <td>...</td>\n",
       "      <td>...</td>\n",
       "      <td>...</td>\n",
       "      <td>...</td>\n",
       "      <td>...</td>\n",
       "      <td>...</td>\n",
       "    </tr>\n",
       "    <tr>\n",
       "      <td>3217</td>\n",
       "      <td>1231</td>\n",
       "      <td>NaN</td>\n",
       "      <td>NaN</td>\n",
       "      <td>NaN</td>\n",
       "      <td>NaN</td>\n",
       "      <td>NaN</td>\n",
       "      <td>ultra</td>\n",
       "      <td>Чебоксары</td>\n",
       "    </tr>\n",
       "    <tr>\n",
       "      <td>3218</td>\n",
       "      <td>1328</td>\n",
       "      <td>NaN</td>\n",
       "      <td>NaN</td>\n",
       "      <td>NaN</td>\n",
       "      <td>NaN</td>\n",
       "      <td>NaN</td>\n",
       "      <td>ultra</td>\n",
       "      <td>Мурманск</td>\n",
       "    </tr>\n",
       "    <tr>\n",
       "      <td>3219</td>\n",
       "      <td>1371</td>\n",
       "      <td>NaN</td>\n",
       "      <td>NaN</td>\n",
       "      <td>NaN</td>\n",
       "      <td>NaN</td>\n",
       "      <td>NaN</td>\n",
       "      <td>smart</td>\n",
       "      <td>Омск</td>\n",
       "    </tr>\n",
       "    <tr>\n",
       "      <td>3220</td>\n",
       "      <td>1473</td>\n",
       "      <td>NaN</td>\n",
       "      <td>NaN</td>\n",
       "      <td>NaN</td>\n",
       "      <td>NaN</td>\n",
       "      <td>NaN</td>\n",
       "      <td>ultra</td>\n",
       "      <td>Красноярск</td>\n",
       "    </tr>\n",
       "    <tr>\n",
       "      <td>3221</td>\n",
       "      <td>1489</td>\n",
       "      <td>NaN</td>\n",
       "      <td>NaN</td>\n",
       "      <td>NaN</td>\n",
       "      <td>NaN</td>\n",
       "      <td>NaN</td>\n",
       "      <td>smart</td>\n",
       "      <td>Санкт-Петербург</td>\n",
       "    </tr>\n",
       "  </tbody>\n",
       "</table>\n",
       "<p>3222 rows × 8 columns</p>\n",
       "</div>"
      ],
      "text/plain": [
       "      user_id  month  messages_count  mb_used  duration  calls_count tariff  \\\n",
       "0        1000    5.0            22.0   2256.0     159.0         22.0  ultra   \n",
       "1        1000    6.0            60.0  23257.0     172.0         43.0  ultra   \n",
       "2        1000    7.0            75.0  14016.0     340.0         47.0  ultra   \n",
       "3        1000    8.0            81.0  14070.0     408.0         52.0  ultra   \n",
       "4        1000    9.0            57.0  14581.0     466.0         58.0  ultra   \n",
       "...       ...    ...             ...      ...       ...          ...    ...   \n",
       "3217     1231    NaN             NaN      NaN       NaN          NaN  ultra   \n",
       "3218     1328    NaN             NaN      NaN       NaN          NaN  ultra   \n",
       "3219     1371    NaN             NaN      NaN       NaN          NaN  smart   \n",
       "3220     1473    NaN             NaN      NaN       NaN          NaN  ultra   \n",
       "3221     1489    NaN             NaN      NaN       NaN          NaN  smart   \n",
       "\n",
       "                 city  \n",
       "0           Краснодар  \n",
       "1           Краснодар  \n",
       "2           Краснодар  \n",
       "3           Краснодар  \n",
       "4           Краснодар  \n",
       "...               ...  \n",
       "3217        Чебоксары  \n",
       "3218         Мурманск  \n",
       "3219             Омск  \n",
       "3220       Красноярск  \n",
       "3221  Санкт-Петербург  \n",
       "\n",
       "[3222 rows x 8 columns]"
      ]
     },
     "execution_count": 20,
     "metadata": {},
     "output_type": "execute_result"
    }
   ],
   "source": [
    "users_s"
   ]
  },
  {
   "cell_type": "code",
   "execution_count": 21,
   "metadata": {},
   "outputs": [
    {
     "data": {
      "text/plain": [
       "user_id             0\n",
       "month               8\n",
       "messages_count    505\n",
       "mb_used            19\n",
       "duration           48\n",
       "calls_count        48\n",
       "tariff             40\n",
       "city               40\n",
       "dtype: int64"
      ]
     },
     "execution_count": 21,
     "metadata": {},
     "output_type": "execute_result"
    }
   ],
   "source": [
    "users_s.isna().sum()"
   ]
  },
  {
   "cell_type": "markdown",
   "metadata": {},
   "source": [
    "Записи с пустым месяцем откинем, их мало, остальные заполним нулями - люди не пользуются данными услугами."
   ]
  },
  {
   "cell_type": "code",
   "execution_count": 22,
   "metadata": {},
   "outputs": [],
   "source": [
    "# users_s['mb_used'] = users_s['mb_used'].fillna(0)\n",
    "# users_s['calls_count'] = users_s['calls_count'].fillna(0)\n",
    "# users_s['duration'] = users_s['duration'].fillna(0)\n",
    "# users_s['messages_count'] = users_s['messages_count'].fillna(0)\n",
    "# users_s = users_s[users_s['month'].notna()]"
   ]
  },
  {
   "cell_type": "code",
   "execution_count": 23,
   "metadata": {},
   "outputs": [
    {
     "data": {
      "text/plain": [
       "252.0"
      ]
     },
     "execution_count": 23,
     "metadata": {},
     "output_type": "execute_result"
    }
   ],
   "source": [
    "# с пропусками\n",
    "pd.Series([200, 300, 256] + [np.nan]*9).mean()"
   ]
  },
  {
   "cell_type": "code",
   "execution_count": 24,
   "metadata": {},
   "outputs": [
    {
     "data": {
      "text/plain": [
       "63.0"
      ]
     },
     "execution_count": 24,
     "metadata": {},
     "output_type": "execute_result"
    }
   ],
   "source": [
    "# без пропусками, с 0\n",
    "pd.Series([200, 300, 256] + [0]*9).mean()"
   ]
  },
  {
   "cell_type": "markdown",
   "metadata": {},
   "source": [
    "Посмотрим на пропуски:"
   ]
  },
  {
   "cell_type": "code",
   "execution_count": 25,
   "metadata": {},
   "outputs": [
    {
     "data": {
      "text/plain": [
       "user_id             0\n",
       "month               8\n",
       "messages_count    505\n",
       "mb_used            19\n",
       "duration           48\n",
       "calls_count        48\n",
       "tariff             40\n",
       "city               40\n",
       "dtype: int64"
      ]
     },
     "execution_count": 25,
     "metadata": {},
     "output_type": "execute_result"
    }
   ],
   "source": [
    "users_s.isna().sum()"
   ]
  },
  {
   "cell_type": "code",
   "execution_count": 26,
   "metadata": {},
   "outputs": [
    {
     "data": {
      "text/html": [
       "<div>\n",
       "<style scoped>\n",
       "    .dataframe tbody tr th:only-of-type {\n",
       "        vertical-align: middle;\n",
       "    }\n",
       "\n",
       "    .dataframe tbody tr th {\n",
       "        vertical-align: top;\n",
       "    }\n",
       "\n",
       "    .dataframe thead th {\n",
       "        text-align: right;\n",
       "    }\n",
       "</style>\n",
       "<table border=\"1\" class=\"dataframe\">\n",
       "  <thead>\n",
       "    <tr style=\"text-align: right;\">\n",
       "      <th></th>\n",
       "      <th>user_id</th>\n",
       "      <th>month</th>\n",
       "      <th>messages_count</th>\n",
       "      <th>mb_used</th>\n",
       "      <th>duration</th>\n",
       "      <th>calls_count</th>\n",
       "      <th>tariff</th>\n",
       "      <th>city</th>\n",
       "    </tr>\n",
       "  </thead>\n",
       "  <tbody>\n",
       "    <tr>\n",
       "      <td>3214</td>\n",
       "      <td>1091</td>\n",
       "      <td>NaN</td>\n",
       "      <td>NaN</td>\n",
       "      <td>NaN</td>\n",
       "      <td>NaN</td>\n",
       "      <td>NaN</td>\n",
       "      <td>ultra</td>\n",
       "      <td>Набережные Челны</td>\n",
       "    </tr>\n",
       "    <tr>\n",
       "      <td>3215</td>\n",
       "      <td>1106</td>\n",
       "      <td>NaN</td>\n",
       "      <td>NaN</td>\n",
       "      <td>NaN</td>\n",
       "      <td>NaN</td>\n",
       "      <td>NaN</td>\n",
       "      <td>ultra</td>\n",
       "      <td>Калуга</td>\n",
       "    </tr>\n",
       "    <tr>\n",
       "      <td>3216</td>\n",
       "      <td>1128</td>\n",
       "      <td>NaN</td>\n",
       "      <td>NaN</td>\n",
       "      <td>NaN</td>\n",
       "      <td>NaN</td>\n",
       "      <td>NaN</td>\n",
       "      <td>ultra</td>\n",
       "      <td>Волжский</td>\n",
       "    </tr>\n",
       "    <tr>\n",
       "      <td>3217</td>\n",
       "      <td>1231</td>\n",
       "      <td>NaN</td>\n",
       "      <td>NaN</td>\n",
       "      <td>NaN</td>\n",
       "      <td>NaN</td>\n",
       "      <td>NaN</td>\n",
       "      <td>ultra</td>\n",
       "      <td>Чебоксары</td>\n",
       "    </tr>\n",
       "    <tr>\n",
       "      <td>3218</td>\n",
       "      <td>1328</td>\n",
       "      <td>NaN</td>\n",
       "      <td>NaN</td>\n",
       "      <td>NaN</td>\n",
       "      <td>NaN</td>\n",
       "      <td>NaN</td>\n",
       "      <td>ultra</td>\n",
       "      <td>Мурманск</td>\n",
       "    </tr>\n",
       "    <tr>\n",
       "      <td>3219</td>\n",
       "      <td>1371</td>\n",
       "      <td>NaN</td>\n",
       "      <td>NaN</td>\n",
       "      <td>NaN</td>\n",
       "      <td>NaN</td>\n",
       "      <td>NaN</td>\n",
       "      <td>smart</td>\n",
       "      <td>Омск</td>\n",
       "    </tr>\n",
       "    <tr>\n",
       "      <td>3220</td>\n",
       "      <td>1473</td>\n",
       "      <td>NaN</td>\n",
       "      <td>NaN</td>\n",
       "      <td>NaN</td>\n",
       "      <td>NaN</td>\n",
       "      <td>NaN</td>\n",
       "      <td>ultra</td>\n",
       "      <td>Красноярск</td>\n",
       "    </tr>\n",
       "    <tr>\n",
       "      <td>3221</td>\n",
       "      <td>1489</td>\n",
       "      <td>NaN</td>\n",
       "      <td>NaN</td>\n",
       "      <td>NaN</td>\n",
       "      <td>NaN</td>\n",
       "      <td>NaN</td>\n",
       "      <td>smart</td>\n",
       "      <td>Санкт-Петербург</td>\n",
       "    </tr>\n",
       "  </tbody>\n",
       "</table>\n",
       "</div>"
      ],
      "text/plain": [
       "      user_id  month  messages_count  mb_used  duration  calls_count tariff  \\\n",
       "3214     1091    NaN             NaN      NaN       NaN          NaN  ultra   \n",
       "3215     1106    NaN             NaN      NaN       NaN          NaN  ultra   \n",
       "3216     1128    NaN             NaN      NaN       NaN          NaN  ultra   \n",
       "3217     1231    NaN             NaN      NaN       NaN          NaN  ultra   \n",
       "3218     1328    NaN             NaN      NaN       NaN          NaN  ultra   \n",
       "3219     1371    NaN             NaN      NaN       NaN          NaN  smart   \n",
       "3220     1473    NaN             NaN      NaN       NaN          NaN  ultra   \n",
       "3221     1489    NaN             NaN      NaN       NaN          NaN  smart   \n",
       "\n",
       "                  city  \n",
       "3214  Набережные Челны  \n",
       "3215            Калуга  \n",
       "3216          Волжский  \n",
       "3217         Чебоксары  \n",
       "3218          Мурманск  \n",
       "3219              Омск  \n",
       "3220        Красноярск  \n",
       "3221   Санкт-Петербург  "
      ]
     },
     "execution_count": 26,
     "metadata": {},
     "output_type": "execute_result"
    }
   ],
   "source": [
    "users_s[users_s['month'].isna()]"
   ]
  },
  {
   "cell_type": "code",
   "execution_count": 27,
   "metadata": {},
   "outputs": [
    {
     "data": {
      "text/html": [
       "<div>\n",
       "<style scoped>\n",
       "    .dataframe tbody tr th:only-of-type {\n",
       "        vertical-align: middle;\n",
       "    }\n",
       "\n",
       "    .dataframe tbody tr th {\n",
       "        vertical-align: top;\n",
       "    }\n",
       "\n",
       "    .dataframe thead th {\n",
       "        text-align: right;\n",
       "    }\n",
       "</style>\n",
       "<table border=\"1\" class=\"dataframe\">\n",
       "  <thead>\n",
       "    <tr style=\"text-align: right;\">\n",
       "      <th></th>\n",
       "      <th>month</th>\n",
       "      <th>messages_count</th>\n",
       "      <th>mb_used</th>\n",
       "      <th>duration</th>\n",
       "      <th>calls_count</th>\n",
       "    </tr>\n",
       "    <tr>\n",
       "      <th>user_id</th>\n",
       "      <th></th>\n",
       "      <th></th>\n",
       "      <th></th>\n",
       "      <th></th>\n",
       "      <th></th>\n",
       "    </tr>\n",
       "  </thead>\n",
       "  <tbody>\n",
       "    <tr>\n",
       "      <td>1091</td>\n",
       "      <td>68.0</td>\n",
       "      <td>272.0</td>\n",
       "      <td>107501.0</td>\n",
       "      <td>0.0</td>\n",
       "      <td>0.0</td>\n",
       "    </tr>\n",
       "    <tr>\n",
       "      <td>1106</td>\n",
       "      <td>72.0</td>\n",
       "      <td>225.0</td>\n",
       "      <td>156311.0</td>\n",
       "      <td>0.0</td>\n",
       "      <td>0.0</td>\n",
       "    </tr>\n",
       "    <tr>\n",
       "      <td>1231</td>\n",
       "      <td>68.0</td>\n",
       "      <td>1384.0</td>\n",
       "      <td>222731.0</td>\n",
       "      <td>0.0</td>\n",
       "      <td>0.0</td>\n",
       "    </tr>\n",
       "    <tr>\n",
       "      <td>1328</td>\n",
       "      <td>33.0</td>\n",
       "      <td>21.0</td>\n",
       "      <td>97475.0</td>\n",
       "      <td>0.0</td>\n",
       "      <td>0.0</td>\n",
       "    </tr>\n",
       "    <tr>\n",
       "      <td>1373</td>\n",
       "      <td>6.0</td>\n",
       "      <td>48.0</td>\n",
       "      <td>12457.0</td>\n",
       "      <td>0.0</td>\n",
       "      <td>0.0</td>\n",
       "    </tr>\n",
       "    <tr>\n",
       "      <td>1473</td>\n",
       "      <td>50.0</td>\n",
       "      <td>90.0</td>\n",
       "      <td>84051.0</td>\n",
       "      <td>0.0</td>\n",
       "      <td>0.0</td>\n",
       "    </tr>\n",
       "    <tr>\n",
       "      <td>1476</td>\n",
       "      <td>4.0</td>\n",
       "      <td>0.0</td>\n",
       "      <td>531.0</td>\n",
       "      <td>0.0</td>\n",
       "      <td>0.0</td>\n",
       "    </tr>\n",
       "    <tr>\n",
       "      <td>1489</td>\n",
       "      <td>50.0</td>\n",
       "      <td>125.0</td>\n",
       "      <td>82743.0</td>\n",
       "      <td>0.0</td>\n",
       "      <td>0.0</td>\n",
       "    </tr>\n",
       "  </tbody>\n",
       "</table>\n",
       "</div>"
      ],
      "text/plain": [
       "         month  messages_count   mb_used  duration  calls_count\n",
       "user_id                                                        \n",
       "1091      68.0           272.0  107501.0       0.0          0.0\n",
       "1106      72.0           225.0  156311.0       0.0          0.0\n",
       "1231      68.0          1384.0  222731.0       0.0          0.0\n",
       "1328      33.0            21.0   97475.0       0.0          0.0\n",
       "1373       6.0            48.0   12457.0       0.0          0.0\n",
       "1473      50.0            90.0   84051.0       0.0          0.0\n",
       "1476       4.0             0.0     531.0       0.0          0.0\n",
       "1489      50.0           125.0   82743.0       0.0          0.0"
      ]
     },
     "execution_count": 27,
     "metadata": {},
     "output_type": "execute_result"
    }
   ],
   "source": [
    "users_s[users_s['tariff'].isna()].groupby('user_id').sum()"
   ]
  },
  {
   "cell_type": "markdown",
   "metadata": {},
   "source": [
    "Это +/- одни и теже люди которых мы внизу приняли решение удалить из выборки т.к. они занимают незначительный процент в данных и не скажутся на анализе.\n",
    "\n",
    "Если посмотреть подробнее на некоторых:"
   ]
  },
  {
   "cell_type": "code",
   "execution_count": 28,
   "metadata": {},
   "outputs": [
    {
     "data": {
      "text/html": [
       "<div>\n",
       "<style scoped>\n",
       "    .dataframe tbody tr th:only-of-type {\n",
       "        vertical-align: middle;\n",
       "    }\n",
       "\n",
       "    .dataframe tbody tr th {\n",
       "        vertical-align: top;\n",
       "    }\n",
       "\n",
       "    .dataframe thead th {\n",
       "        text-align: right;\n",
       "    }\n",
       "</style>\n",
       "<table border=\"1\" class=\"dataframe\">\n",
       "  <thead>\n",
       "    <tr style=\"text-align: right;\">\n",
       "      <th></th>\n",
       "      <th>user_id</th>\n",
       "      <th>age</th>\n",
       "      <th>churn_date</th>\n",
       "      <th>city</th>\n",
       "      <th>first_name</th>\n",
       "      <th>last_name</th>\n",
       "      <th>reg_date</th>\n",
       "      <th>tariff</th>\n",
       "      <th>user_count</th>\n",
       "    </tr>\n",
       "  </thead>\n",
       "  <tbody>\n",
       "    <tr>\n",
       "      <td>476</td>\n",
       "      <td>1476</td>\n",
       "      <td>50</td>\n",
       "      <td>NaN</td>\n",
       "      <td>Москва</td>\n",
       "      <td>Валентина</td>\n",
       "      <td>Семенова</td>\n",
       "      <td>2018-04-30</td>\n",
       "      <td>ultra</td>\n",
       "      <td>1</td>\n",
       "    </tr>\n",
       "  </tbody>\n",
       "</table>\n",
       "</div>"
      ],
      "text/plain": [
       "     user_id  age churn_date    city first_name last_name    reg_date tariff  \\\n",
       "476     1476   50        NaN  Москва  Валентина  Семенова  2018-04-30  ultra   \n",
       "\n",
       "     user_count  \n",
       "476           1  "
      ]
     },
     "execution_count": 28,
     "metadata": {},
     "output_type": "execute_result"
    }
   ],
   "source": [
    "users[users['user_id'] == 1476]"
   ]
  },
  {
   "cell_type": "code",
   "execution_count": 29,
   "metadata": {},
   "outputs": [
    {
     "data": {
      "text/html": [
       "<div>\n",
       "<style scoped>\n",
       "    .dataframe tbody tr th:only-of-type {\n",
       "        vertical-align: middle;\n",
       "    }\n",
       "\n",
       "    .dataframe tbody tr th {\n",
       "        vertical-align: top;\n",
       "    }\n",
       "\n",
       "    .dataframe thead th {\n",
       "        text-align: right;\n",
       "    }\n",
       "</style>\n",
       "<table border=\"1\" class=\"dataframe\">\n",
       "  <thead>\n",
       "    <tr style=\"text-align: right;\">\n",
       "      <th></th>\n",
       "      <th>user_id</th>\n",
       "      <th>month</th>\n",
       "      <th>messages_count</th>\n",
       "      <th>mb_used</th>\n",
       "      <th>duration</th>\n",
       "      <th>calls_count</th>\n",
       "      <th>tariff</th>\n",
       "      <th>city</th>\n",
       "    </tr>\n",
       "  </thead>\n",
       "  <tbody>\n",
       "    <tr>\n",
       "      <td>2579</td>\n",
       "      <td>1476</td>\n",
       "      <td>5.0</td>\n",
       "      <td>7.0</td>\n",
       "      <td>21805.0</td>\n",
       "      <td>459.0</td>\n",
       "      <td>71.0</td>\n",
       "      <td>ultra</td>\n",
       "      <td>Москва</td>\n",
       "    </tr>\n",
       "    <tr>\n",
       "      <td>2580</td>\n",
       "      <td>1476</td>\n",
       "      <td>6.0</td>\n",
       "      <td>4.0</td>\n",
       "      <td>14634.0</td>\n",
       "      <td>491.0</td>\n",
       "      <td>62.0</td>\n",
       "      <td>ultra</td>\n",
       "      <td>Москва</td>\n",
       "    </tr>\n",
       "    <tr>\n",
       "      <td>2581</td>\n",
       "      <td>1476</td>\n",
       "      <td>7.0</td>\n",
       "      <td>3.0</td>\n",
       "      <td>16004.0</td>\n",
       "      <td>492.0</td>\n",
       "      <td>65.0</td>\n",
       "      <td>ultra</td>\n",
       "      <td>Москва</td>\n",
       "    </tr>\n",
       "    <tr>\n",
       "      <td>2582</td>\n",
       "      <td>1476</td>\n",
       "      <td>8.0</td>\n",
       "      <td>5.0</td>\n",
       "      <td>25128.0</td>\n",
       "      <td>456.0</td>\n",
       "      <td>59.0</td>\n",
       "      <td>ultra</td>\n",
       "      <td>Москва</td>\n",
       "    </tr>\n",
       "    <tr>\n",
       "      <td>2583</td>\n",
       "      <td>1476</td>\n",
       "      <td>9.0</td>\n",
       "      <td>5.0</td>\n",
       "      <td>18620.0</td>\n",
       "      <td>622.0</td>\n",
       "      <td>72.0</td>\n",
       "      <td>ultra</td>\n",
       "      <td>Москва</td>\n",
       "    </tr>\n",
       "    <tr>\n",
       "      <td>2584</td>\n",
       "      <td>1476</td>\n",
       "      <td>10.0</td>\n",
       "      <td>4.0</td>\n",
       "      <td>25148.0</td>\n",
       "      <td>540.0</td>\n",
       "      <td>68.0</td>\n",
       "      <td>ultra</td>\n",
       "      <td>Москва</td>\n",
       "    </tr>\n",
       "    <tr>\n",
       "      <td>2585</td>\n",
       "      <td>1476</td>\n",
       "      <td>11.0</td>\n",
       "      <td>6.0</td>\n",
       "      <td>14423.0</td>\n",
       "      <td>556.0</td>\n",
       "      <td>71.0</td>\n",
       "      <td>ultra</td>\n",
       "      <td>Москва</td>\n",
       "    </tr>\n",
       "    <tr>\n",
       "      <td>2586</td>\n",
       "      <td>1476</td>\n",
       "      <td>12.0</td>\n",
       "      <td>11.0</td>\n",
       "      <td>14136.0</td>\n",
       "      <td>588.0</td>\n",
       "      <td>81.0</td>\n",
       "      <td>ultra</td>\n",
       "      <td>Москва</td>\n",
       "    </tr>\n",
       "    <tr>\n",
       "      <td>3202</td>\n",
       "      <td>1476</td>\n",
       "      <td>4.0</td>\n",
       "      <td>NaN</td>\n",
       "      <td>531.0</td>\n",
       "      <td>NaN</td>\n",
       "      <td>NaN</td>\n",
       "      <td>NaN</td>\n",
       "      <td>NaN</td>\n",
       "    </tr>\n",
       "  </tbody>\n",
       "</table>\n",
       "</div>"
      ],
      "text/plain": [
       "      user_id  month  messages_count  mb_used  duration  calls_count tariff  \\\n",
       "2579     1476    5.0             7.0  21805.0     459.0         71.0  ultra   \n",
       "2580     1476    6.0             4.0  14634.0     491.0         62.0  ultra   \n",
       "2581     1476    7.0             3.0  16004.0     492.0         65.0  ultra   \n",
       "2582     1476    8.0             5.0  25128.0     456.0         59.0  ultra   \n",
       "2583     1476    9.0             5.0  18620.0     622.0         72.0  ultra   \n",
       "2584     1476   10.0             4.0  25148.0     540.0         68.0  ultra   \n",
       "2585     1476   11.0             6.0  14423.0     556.0         71.0  ultra   \n",
       "2586     1476   12.0            11.0  14136.0     588.0         81.0  ultra   \n",
       "3202     1476    4.0             NaN    531.0       NaN          NaN    NaN   \n",
       "\n",
       "        city  \n",
       "2579  Москва  \n",
       "2580  Москва  \n",
       "2581  Москва  \n",
       "2582  Москва  \n",
       "2583  Москва  \n",
       "2584  Москва  \n",
       "2585  Москва  \n",
       "2586  Москва  \n",
       "3202     NaN  "
      ]
     },
     "execution_count": 29,
     "metadata": {},
     "output_type": "execute_result"
    }
   ],
   "source": [
    "users_s[users_s['user_id'] == 1476]"
   ]
  },
  {
   "cell_type": "markdown",
   "metadata": {},
   "source": [
    "Тут плохо зачелся первый месяц пользования тарифом."
   ]
  },
  {
   "cell_type": "code",
   "execution_count": 30,
   "metadata": {},
   "outputs": [
    {
     "data": {
      "text/html": [
       "<div>\n",
       "<style scoped>\n",
       "    .dataframe tbody tr th:only-of-type {\n",
       "        vertical-align: middle;\n",
       "    }\n",
       "\n",
       "    .dataframe tbody tr th {\n",
       "        vertical-align: top;\n",
       "    }\n",
       "\n",
       "    .dataframe thead th {\n",
       "        text-align: right;\n",
       "    }\n",
       "</style>\n",
       "<table border=\"1\" class=\"dataframe\">\n",
       "  <thead>\n",
       "    <tr style=\"text-align: right;\">\n",
       "      <th></th>\n",
       "      <th>user_id</th>\n",
       "      <th>age</th>\n",
       "      <th>churn_date</th>\n",
       "      <th>city</th>\n",
       "      <th>first_name</th>\n",
       "      <th>last_name</th>\n",
       "      <th>reg_date</th>\n",
       "      <th>tariff</th>\n",
       "      <th>user_count</th>\n",
       "    </tr>\n",
       "  </thead>\n",
       "  <tbody>\n",
       "    <tr>\n",
       "      <td>473</td>\n",
       "      <td>1473</td>\n",
       "      <td>18</td>\n",
       "      <td>NaN</td>\n",
       "      <td>Красноярск</td>\n",
       "      <td>Николай</td>\n",
       "      <td>Лебедев</td>\n",
       "      <td>2018-08-05</td>\n",
       "      <td>ultra</td>\n",
       "      <td>1</td>\n",
       "    </tr>\n",
       "  </tbody>\n",
       "</table>\n",
       "</div>"
      ],
      "text/plain": [
       "     user_id  age churn_date        city first_name last_name    reg_date  \\\n",
       "473     1473   18        NaN  Красноярск    Николай   Лебедев  2018-08-05   \n",
       "\n",
       "    tariff  user_count  \n",
       "473  ultra           1  "
      ]
     },
     "execution_count": 30,
     "metadata": {},
     "output_type": "execute_result"
    }
   ],
   "source": [
    "users[users['user_id'] == 1473]"
   ]
  },
  {
   "cell_type": "code",
   "execution_count": 31,
   "metadata": {},
   "outputs": [
    {
     "data": {
      "text/html": [
       "<div>\n",
       "<style scoped>\n",
       "    .dataframe tbody tr th:only-of-type {\n",
       "        vertical-align: middle;\n",
       "    }\n",
       "\n",
       "    .dataframe tbody tr th {\n",
       "        vertical-align: top;\n",
       "    }\n",
       "\n",
       "    .dataframe thead th {\n",
       "        text-align: right;\n",
       "    }\n",
       "</style>\n",
       "<table border=\"1\" class=\"dataframe\">\n",
       "  <thead>\n",
       "    <tr style=\"text-align: right;\">\n",
       "      <th></th>\n",
       "      <th>user_id</th>\n",
       "      <th>month</th>\n",
       "      <th>messages_count</th>\n",
       "      <th>mb_used</th>\n",
       "      <th>duration</th>\n",
       "      <th>calls_count</th>\n",
       "      <th>tariff</th>\n",
       "      <th>city</th>\n",
       "    </tr>\n",
       "  </thead>\n",
       "  <tbody>\n",
       "    <tr>\n",
       "      <td>2560</td>\n",
       "      <td>1473</td>\n",
       "      <td>8.0</td>\n",
       "      <td>17.0</td>\n",
       "      <td>12917.0</td>\n",
       "      <td>NaN</td>\n",
       "      <td>NaN</td>\n",
       "      <td>NaN</td>\n",
       "      <td>NaN</td>\n",
       "    </tr>\n",
       "    <tr>\n",
       "      <td>2561</td>\n",
       "      <td>1473</td>\n",
       "      <td>9.0</td>\n",
       "      <td>19.0</td>\n",
       "      <td>17307.0</td>\n",
       "      <td>NaN</td>\n",
       "      <td>NaN</td>\n",
       "      <td>NaN</td>\n",
       "      <td>NaN</td>\n",
       "    </tr>\n",
       "    <tr>\n",
       "      <td>2562</td>\n",
       "      <td>1473</td>\n",
       "      <td>10.0</td>\n",
       "      <td>20.0</td>\n",
       "      <td>13703.0</td>\n",
       "      <td>NaN</td>\n",
       "      <td>NaN</td>\n",
       "      <td>NaN</td>\n",
       "      <td>NaN</td>\n",
       "    </tr>\n",
       "    <tr>\n",
       "      <td>2563</td>\n",
       "      <td>1473</td>\n",
       "      <td>11.0</td>\n",
       "      <td>14.0</td>\n",
       "      <td>21692.0</td>\n",
       "      <td>NaN</td>\n",
       "      <td>NaN</td>\n",
       "      <td>NaN</td>\n",
       "      <td>NaN</td>\n",
       "    </tr>\n",
       "    <tr>\n",
       "      <td>2564</td>\n",
       "      <td>1473</td>\n",
       "      <td>12.0</td>\n",
       "      <td>20.0</td>\n",
       "      <td>18432.0</td>\n",
       "      <td>NaN</td>\n",
       "      <td>NaN</td>\n",
       "      <td>NaN</td>\n",
       "      <td>NaN</td>\n",
       "    </tr>\n",
       "    <tr>\n",
       "      <td>3220</td>\n",
       "      <td>1473</td>\n",
       "      <td>NaN</td>\n",
       "      <td>NaN</td>\n",
       "      <td>NaN</td>\n",
       "      <td>NaN</td>\n",
       "      <td>NaN</td>\n",
       "      <td>ultra</td>\n",
       "      <td>Красноярск</td>\n",
       "    </tr>\n",
       "  </tbody>\n",
       "</table>\n",
       "</div>"
      ],
      "text/plain": [
       "      user_id  month  messages_count  mb_used  duration  calls_count tariff  \\\n",
       "2560     1473    8.0            17.0  12917.0       NaN          NaN    NaN   \n",
       "2561     1473    9.0            19.0  17307.0       NaN          NaN    NaN   \n",
       "2562     1473   10.0            20.0  13703.0       NaN          NaN    NaN   \n",
       "2563     1473   11.0            14.0  21692.0       NaN          NaN    NaN   \n",
       "2564     1473   12.0            20.0  18432.0       NaN          NaN    NaN   \n",
       "3220     1473    NaN             NaN      NaN       NaN          NaN  ultra   \n",
       "\n",
       "            city  \n",
       "2560         NaN  \n",
       "2561         NaN  \n",
       "2562         NaN  \n",
       "2563         NaN  \n",
       "2564         NaN  \n",
       "3220  Красноярск  "
      ]
     },
     "execution_count": 31,
     "metadata": {},
     "output_type": "execute_result"
    }
   ],
   "source": [
    "users_s[users_s['user_id'] == 1473]"
   ]
  },
  {
   "cell_type": "markdown",
   "metadata": {},
   "source": [
    "А тут вообще непонятно как так получилось."
   ]
  },
  {
   "cell_type": "markdown",
   "metadata": {},
   "source": [
    "Ну и в итоге когда мы удалим пропуски по тарифам и месяцам - у нас не останется пользователей у которых есть пропуски в помесячной длительности разговоров."
   ]
  },
  {
   "cell_type": "code",
   "execution_count": 32,
   "metadata": {},
   "outputs": [],
   "source": [
    "users_s = users_s[users_s['tariff'].notna()]\n",
    "users_s = users_s[users_s['month'].notna()]"
   ]
  },
  {
   "cell_type": "code",
   "execution_count": 33,
   "metadata": {},
   "outputs": [
    {
     "data": {
      "text/plain": [
       "user_id             0\n",
       "month               0\n",
       "messages_count    496\n",
       "mb_used            11\n",
       "duration            0\n",
       "calls_count         0\n",
       "tariff              0\n",
       "city                0\n",
       "dtype: int64"
      ]
     },
     "execution_count": 33,
     "metadata": {},
     "output_type": "execute_result"
    }
   ],
   "source": [
    "users_s.isna().sum()"
   ]
  },
  {
   "cell_type": "code",
   "execution_count": 34,
   "metadata": {},
   "outputs": [
    {
     "data": {
      "text/html": [
       "<div>\n",
       "<style scoped>\n",
       "    .dataframe tbody tr th:only-of-type {\n",
       "        vertical-align: middle;\n",
       "    }\n",
       "\n",
       "    .dataframe tbody tr th {\n",
       "        vertical-align: top;\n",
       "    }\n",
       "\n",
       "    .dataframe thead th {\n",
       "        text-align: right;\n",
       "    }\n",
       "</style>\n",
       "<table border=\"1\" class=\"dataframe\">\n",
       "  <thead>\n",
       "    <tr style=\"text-align: right;\">\n",
       "      <th></th>\n",
       "      <th>user_id</th>\n",
       "      <th>month</th>\n",
       "      <th>messages_count</th>\n",
       "      <th>mb_used</th>\n",
       "      <th>duration</th>\n",
       "      <th>calls_count</th>\n",
       "      <th>tariff</th>\n",
       "      <th>city</th>\n",
       "    </tr>\n",
       "  </thead>\n",
       "  <tbody>\n",
       "    <tr>\n",
       "      <td>1399</td>\n",
       "      <td>1273</td>\n",
       "      <td>5.0</td>\n",
       "      <td>21.0</td>\n",
       "      <td>NaN</td>\n",
       "      <td>220.0</td>\n",
       "      <td>24.0</td>\n",
       "      <td>ultra</td>\n",
       "      <td>Курган</td>\n",
       "    </tr>\n",
       "    <tr>\n",
       "      <td>1400</td>\n",
       "      <td>1273</td>\n",
       "      <td>6.0</td>\n",
       "      <td>38.0</td>\n",
       "      <td>NaN</td>\n",
       "      <td>230.0</td>\n",
       "      <td>40.0</td>\n",
       "      <td>ultra</td>\n",
       "      <td>Курган</td>\n",
       "    </tr>\n",
       "    <tr>\n",
       "      <td>1401</td>\n",
       "      <td>1273</td>\n",
       "      <td>7.0</td>\n",
       "      <td>37.0</td>\n",
       "      <td>NaN</td>\n",
       "      <td>253.0</td>\n",
       "      <td>44.0</td>\n",
       "      <td>ultra</td>\n",
       "      <td>Курган</td>\n",
       "    </tr>\n",
       "    <tr>\n",
       "      <td>1402</td>\n",
       "      <td>1273</td>\n",
       "      <td>8.0</td>\n",
       "      <td>41.0</td>\n",
       "      <td>NaN</td>\n",
       "      <td>253.0</td>\n",
       "      <td>53.0</td>\n",
       "      <td>ultra</td>\n",
       "      <td>Курган</td>\n",
       "    </tr>\n",
       "    <tr>\n",
       "      <td>1403</td>\n",
       "      <td>1273</td>\n",
       "      <td>9.0</td>\n",
       "      <td>32.0</td>\n",
       "      <td>NaN</td>\n",
       "      <td>223.0</td>\n",
       "      <td>33.0</td>\n",
       "      <td>ultra</td>\n",
       "      <td>Курган</td>\n",
       "    </tr>\n",
       "    <tr>\n",
       "      <td>1404</td>\n",
       "      <td>1273</td>\n",
       "      <td>10.0</td>\n",
       "      <td>35.0</td>\n",
       "      <td>NaN</td>\n",
       "      <td>315.0</td>\n",
       "      <td>40.0</td>\n",
       "      <td>ultra</td>\n",
       "      <td>Курган</td>\n",
       "    </tr>\n",
       "    <tr>\n",
       "      <td>1405</td>\n",
       "      <td>1273</td>\n",
       "      <td>11.0</td>\n",
       "      <td>29.0</td>\n",
       "      <td>NaN</td>\n",
       "      <td>272.0</td>\n",
       "      <td>45.0</td>\n",
       "      <td>ultra</td>\n",
       "      <td>Курган</td>\n",
       "    </tr>\n",
       "    <tr>\n",
       "      <td>1406</td>\n",
       "      <td>1273</td>\n",
       "      <td>12.0</td>\n",
       "      <td>39.0</td>\n",
       "      <td>NaN</td>\n",
       "      <td>260.0</td>\n",
       "      <td>41.0</td>\n",
       "      <td>ultra</td>\n",
       "      <td>Курган</td>\n",
       "    </tr>\n",
       "    <tr>\n",
       "      <td>1970</td>\n",
       "      <td>1377</td>\n",
       "      <td>2.0</td>\n",
       "      <td>2.0</td>\n",
       "      <td>NaN</td>\n",
       "      <td>179.0</td>\n",
       "      <td>23.0</td>\n",
       "      <td>ultra</td>\n",
       "      <td>Брянск</td>\n",
       "    </tr>\n",
       "    <tr>\n",
       "      <td>2075</td>\n",
       "      <td>1392</td>\n",
       "      <td>2.0</td>\n",
       "      <td>3.0</td>\n",
       "      <td>NaN</td>\n",
       "      <td>13.0</td>\n",
       "      <td>2.0</td>\n",
       "      <td>ultra</td>\n",
       "      <td>Челябинск</td>\n",
       "    </tr>\n",
       "    <tr>\n",
       "      <td>2400</td>\n",
       "      <td>1446</td>\n",
       "      <td>8.0</td>\n",
       "      <td>1.0</td>\n",
       "      <td>NaN</td>\n",
       "      <td>50.0</td>\n",
       "      <td>4.0</td>\n",
       "      <td>smart</td>\n",
       "      <td>Липецк</td>\n",
       "    </tr>\n",
       "  </tbody>\n",
       "</table>\n",
       "</div>"
      ],
      "text/plain": [
       "      user_id  month  messages_count  mb_used  duration  calls_count tariff  \\\n",
       "1399     1273    5.0            21.0      NaN     220.0         24.0  ultra   \n",
       "1400     1273    6.0            38.0      NaN     230.0         40.0  ultra   \n",
       "1401     1273    7.0            37.0      NaN     253.0         44.0  ultra   \n",
       "1402     1273    8.0            41.0      NaN     253.0         53.0  ultra   \n",
       "1403     1273    9.0            32.0      NaN     223.0         33.0  ultra   \n",
       "1404     1273   10.0            35.0      NaN     315.0         40.0  ultra   \n",
       "1405     1273   11.0            29.0      NaN     272.0         45.0  ultra   \n",
       "1406     1273   12.0            39.0      NaN     260.0         41.0  ultra   \n",
       "1970     1377    2.0             2.0      NaN     179.0         23.0  ultra   \n",
       "2075     1392    2.0             3.0      NaN      13.0          2.0  ultra   \n",
       "2400     1446    8.0             1.0      NaN      50.0          4.0  smart   \n",
       "\n",
       "           city  \n",
       "1399     Курган  \n",
       "1400     Курган  \n",
       "1401     Курган  \n",
       "1402     Курган  \n",
       "1403     Курган  \n",
       "1404     Курган  \n",
       "1405     Курган  \n",
       "1406     Курган  \n",
       "1970     Брянск  \n",
       "2075  Челябинск  \n",
       "2400     Липецк  "
      ]
     },
     "execution_count": 34,
     "metadata": {},
     "output_type": "execute_result"
    }
   ],
   "source": [
    "users_s[users_s['mb_used'].isna()]"
   ]
  },
  {
   "cell_type": "markdown",
   "metadata": {},
   "source": [
    "Для использованного интернета, тут 4 пользователя с незаполненными значениями, один из которых практически выбирает все число ошибок, а для остальных если заполнить 0 - мне кажется сильно не повлияет на окончательный анализ."
   ]
  },
  {
   "cell_type": "markdown",
   "metadata": {},
   "source": [
    "Мерджил таблички от написанных сообщений(звонков и мегабайтов) и в финальный результат, не должны попадать месяца с полностью по всем параметрам пропущенными значениями, т.е. не будет месяца до того как пользователь пришел на тариф. А если так - значит человек не пользовался сообщениями, поэтому заменяем 0. Заполнять каким то другим значением как мне кажется будет неправильно и исказит данные."
   ]
  },
  {
   "cell_type": "code",
   "execution_count": 75,
   "metadata": {},
   "outputs": [
    {
     "data": {
      "text/plain": [
       "Ttest_indResult(statistic=-1.6024522364766756, pvalue=0.11733684984533495)"
      ]
     },
     "execution_count": 75,
     "metadata": {},
     "output_type": "execute_result"
    }
   ],
   "source": [
    "st.ttest_ind([10] * 10, [*range(30)])"
   ]
  },
  {
   "cell_type": "markdown",
   "metadata": {},
   "source": [
    "1 выборка - 10 значений, 2 - 30 значений - test отработал нормально"
   ]
  },
  {
   "cell_type": "code",
   "execution_count": 35,
   "metadata": {},
   "outputs": [],
   "source": [
    "users_s['mb_used'] = users_s['mb_used'].fillna(0)\n",
    "users_s['messages_count'] = users_s['messages_count'].fillna(0)"
   ]
  },
  {
   "cell_type": "markdown",
   "metadata": {},
   "source": [
    "Изучим данные пользователей без тарифов."
   ]
  },
  {
   "cell_type": "code",
   "execution_count": 36,
   "metadata": {},
   "outputs": [
    {
     "data": {
      "text/plain": [
       "user_id          NaN\n",
       "month            NaN\n",
       "messages_count   NaN\n",
       "mb_used          NaN\n",
       "duration         NaN\n",
       "calls_count      NaN\n",
       "tariff           NaN\n",
       "city             NaN\n",
       "dtype: float64"
      ]
     },
     "execution_count": 36,
     "metadata": {},
     "output_type": "execute_result"
    }
   ],
   "source": [
    "users_s[users_s['tariff'].isna()].mean()"
   ]
  },
  {
   "cell_type": "code",
   "execution_count": 37,
   "metadata": {},
   "outputs": [
    {
     "data": {
      "text/plain": [
       "user_id            1264.766562\n",
       "month                 8.235542\n",
       "messages_count       49.033649\n",
       "mb_used           19480.544690\n",
       "duration            545.451104\n",
       "calls_count          76.016824\n",
       "dtype: float64"
      ]
     },
     "execution_count": 37,
     "metadata": {},
     "output_type": "execute_result"
    }
   ],
   "source": [
    "users_s[users_s['tariff'] == 'ultra'].mean()"
   ]
  },
  {
   "cell_type": "code",
   "execution_count": 38,
   "metadata": {},
   "outputs": [
    {
     "data": {
      "text/plain": [
       "user_id            1245.904184\n",
       "month                 8.344130\n",
       "messages_count       33.396311\n",
       "mb_used           16230.166892\n",
       "duration            419.062978\n",
       "calls_count          58.621233\n",
       "dtype: float64"
      ]
     },
     "execution_count": 38,
     "metadata": {},
     "output_type": "execute_result"
    }
   ],
   "source": [
    "users_s[users_s['tariff'] == 'smart'].mean()"
   ]
  },
  {
   "cell_type": "code",
   "execution_count": 39,
   "metadata": {},
   "outputs": [
    {
     "data": {
      "text/html": [
       "<div>\n",
       "<style scoped>\n",
       "    .dataframe tbody tr th:only-of-type {\n",
       "        vertical-align: middle;\n",
       "    }\n",
       "\n",
       "    .dataframe tbody tr th {\n",
       "        vertical-align: top;\n",
       "    }\n",
       "\n",
       "    .dataframe thead th {\n",
       "        text-align: right;\n",
       "    }\n",
       "</style>\n",
       "<table border=\"1\" class=\"dataframe\">\n",
       "  <thead>\n",
       "    <tr style=\"text-align: right;\">\n",
       "      <th></th>\n",
       "      <th>month</th>\n",
       "      <th>messages_count</th>\n",
       "      <th>mb_used</th>\n",
       "      <th>duration</th>\n",
       "      <th>calls_count</th>\n",
       "    </tr>\n",
       "    <tr>\n",
       "      <th>user_id</th>\n",
       "      <th></th>\n",
       "      <th></th>\n",
       "      <th></th>\n",
       "      <th></th>\n",
       "      <th></th>\n",
       "    </tr>\n",
       "  </thead>\n",
       "  <tbody>\n",
       "  </tbody>\n",
       "</table>\n",
       "</div>"
      ],
      "text/plain": [
       "Empty DataFrame\n",
       "Columns: [month, messages_count, mb_used, duration, calls_count]\n",
       "Index: []"
      ]
     },
     "execution_count": 39,
     "metadata": {},
     "output_type": "execute_result"
    }
   ],
   "source": [
    "users_s[users_s['tariff'].isna()].groupby('user_id').sum()"
   ]
  },
  {
   "cell_type": "markdown",
   "metadata": {},
   "source": [
    "Все не пользуются связью, только интернетом и сообщениями, их немного и лучше удалить."
   ]
  },
  {
   "cell_type": "code",
   "execution_count": 40,
   "metadata": {},
   "outputs": [],
   "source": [
    "#users_s = users_s[users_s['tariff'].notna()]"
   ]
  },
  {
   "cell_type": "markdown",
   "metadata": {},
   "source": [
    "Посчитаем месячную выручку для каждого абонента."
   ]
  },
  {
   "cell_type": "code",
   "execution_count": 41,
   "metadata": {
    "scrolled": true
   },
   "outputs": [
    {
     "data": {
      "text/html": [
       "<div>\n",
       "<style scoped>\n",
       "    .dataframe tbody tr th:only-of-type {\n",
       "        vertical-align: middle;\n",
       "    }\n",
       "\n",
       "    .dataframe tbody tr th {\n",
       "        vertical-align: top;\n",
       "    }\n",
       "\n",
       "    .dataframe thead th {\n",
       "        text-align: right;\n",
       "    }\n",
       "</style>\n",
       "<table border=\"1\" class=\"dataframe\">\n",
       "  <thead>\n",
       "    <tr style=\"text-align: right;\">\n",
       "      <th></th>\n",
       "      <th>messages_included</th>\n",
       "      <th>mb_per_month_included</th>\n",
       "      <th>minutes_included</th>\n",
       "      <th>rub_monthly_fee</th>\n",
       "      <th>rub_per_gb</th>\n",
       "      <th>rub_per_message</th>\n",
       "      <th>rub_per_minute</th>\n",
       "      <th>tariff_name</th>\n",
       "    </tr>\n",
       "  </thead>\n",
       "  <tbody>\n",
       "    <tr>\n",
       "      <td>0</td>\n",
       "      <td>50</td>\n",
       "      <td>15360</td>\n",
       "      <td>500</td>\n",
       "      <td>550</td>\n",
       "      <td>200</td>\n",
       "      <td>3</td>\n",
       "      <td>3</td>\n",
       "      <td>smart</td>\n",
       "    </tr>\n",
       "    <tr>\n",
       "      <td>1</td>\n",
       "      <td>1000</td>\n",
       "      <td>30720</td>\n",
       "      <td>3000</td>\n",
       "      <td>1950</td>\n",
       "      <td>150</td>\n",
       "      <td>1</td>\n",
       "      <td>1</td>\n",
       "      <td>ultra</td>\n",
       "    </tr>\n",
       "  </tbody>\n",
       "</table>\n",
       "</div>"
      ],
      "text/plain": [
       "   messages_included  mb_per_month_included  minutes_included  \\\n",
       "0                 50                  15360               500   \n",
       "1               1000                  30720              3000   \n",
       "\n",
       "   rub_monthly_fee  rub_per_gb  rub_per_message  rub_per_minute tariff_name  \n",
       "0              550         200                3               3       smart  \n",
       "1             1950         150                1               1       ultra  "
      ]
     },
     "execution_count": 41,
     "metadata": {},
     "output_type": "execute_result"
    }
   ],
   "source": [
    "tariffs"
   ]
  },
  {
   "cell_type": "code",
   "execution_count": 42,
   "metadata": {},
   "outputs": [],
   "source": [
    "# для тарифа ultra \n",
    "def bill_u(a,b,c):\n",
    "    a_ = a-tariffs.loc[1]['minutes_included']\n",
    "    if a_ < 0: a_=0\n",
    "    b_ = b-tariffs.loc[1]['messages_included']\n",
    "    if b_ < 0: b_=0\n",
    "    c_ = c-tariffs.loc[1]['mb_per_month_included']\n",
    "    if c_ < 0: c_=0\n",
    "    if c_ > 0:\n",
    "        c_ = ceil(c_/1024)*tariffs.loc[1]['rub_per_gb']\n",
    "\n",
    "    return a_ + b_ + c_ + tariffs.loc[1]['rub_monthly_fee']\n",
    "\n",
    "# для тарифа smart    \n",
    "def bill_s(a,b,c):  \n",
    "    a_ = (a-tariffs.loc[0]['minutes_included'])*tariffs.loc[0]['rub_per_minute']\n",
    "    if a_ < 0: a_=0\n",
    "    b_ = (b-tariffs.loc[0]['messages_included'])*tariffs.loc[0]['rub_per_message']\n",
    "    if b_ < 0: b_=0\n",
    "    c_ = c-tariffs.loc[0]['mb_per_month_included']\n",
    "    if c_ < 0: c_=0\n",
    "    if c_ > 0:\n",
    "        c_ = ceil(c_/1024)*tariffs.loc[0]['rub_per_gb']\n",
    "\n",
    "    return a_ + b_ + c_ + tariffs.loc[0]['rub_monthly_fee']"
   ]
  },
  {
   "cell_type": "code",
   "execution_count": 43,
   "metadata": {},
   "outputs": [],
   "source": [
    "users_s['bill'] = np.where(users_s['tariff'] == 'ultra',\n",
    "                                        pd.Series(map(bill_u,users_s['duration'],\n",
    "                                                      users_s['messages_count'],users_s['mb_used'])),\n",
    "                                         pd.Series(map(bill_s,users_s['duration'],\n",
    "                                                       users_s['messages_count'],users_s['mb_used'])))"
   ]
  },
  {
   "cell_type": "code",
   "execution_count": 44,
   "metadata": {},
   "outputs": [
    {
     "data": {
      "text/plain": [
       "<matplotlib.axes._subplots.AxesSubplot at 0x7f102b98be10>"
      ]
     },
     "execution_count": 44,
     "metadata": {},
     "output_type": "execute_result"
    },
    {
     "data": {
      "image/png": "[encoded data removed]",
      "text/plain": [
       "<Figure size 432x288 with 1 Axes>"
      ]
     },
     "metadata": {
      "needs_background": "light"
     },
     "output_type": "display_data"
    }
   ],
   "source": [
    "users_s['bill'].hist(bins=50)"
   ]
  },
  {
   "cell_type": "code",
   "execution_count": 45,
   "metadata": {},
   "outputs": [
    {
     "data": {
      "text/plain": [
       "<matplotlib.axes._subplots.AxesSubplot at 0x7f102ce605d0>"
      ]
     },
     "execution_count": 45,
     "metadata": {},
     "output_type": "execute_result"
    },
    {
     "data": {
      "image/png": "[encoded data removed]",
      "text/plain": [
       "<Figure size 432x288 with 1 Axes>"
      ]
     },
     "metadata": {
      "needs_background": "light"
     },
     "output_type": "display_data"
    }
   ],
   "source": [
    "users_s[users_s['tariff'] == 'ultra']['bill'].hist(bins=30)"
   ]
  },
  {
   "cell_type": "markdown",
   "metadata": {},
   "source": [
    "Поскольку лимиты у тарифа ultra весьма объемные пользователи перебирают их весьма редко."
   ]
  },
  {
   "cell_type": "code",
   "execution_count": 46,
   "metadata": {},
   "outputs": [
    {
     "data": {
      "text/plain": [
       "<matplotlib.axes._subplots.AxesSubplot at 0x7f102cdbbfd0>"
      ]
     },
     "execution_count": 46,
     "metadata": {},
     "output_type": "execute_result"
    },
    {
     "data": {
      "image/png": "[encoded data removed]",
      "text/plain": [
       "<Figure size 432x288 with 1 Axes>"
      ]
     },
     "metadata": {
      "needs_background": "light"
     },
     "output_type": "display_data"
    }
   ],
   "source": [
    "users_s[users_s['tariff'] == 'smart']['bill'].hist(bins=50)"
   ]
  },
  {
   "cell_type": "markdown",
   "metadata": {},
   "source": [
    "Пользователи на тарифе smart частенько перебирают лимиты и платят больше, причем иногда намного больше чем пользователи с тарифом ultra. Возможно чтобы предотвратить отток клиентов следует клиентам которые регулярно и помногу перебирают предложить тариф ultra."
   ]
  },
  {
   "cell_type": "markdown",
   "metadata": {},
   "source": [
    "## <a name=\"Step3\"></a> 3. Анализ данных\n",
    "\n",
    "\n",
    "[Наверх](#All)"
   ]
  },
  {
   "cell_type": "code",
   "execution_count": null,
   "metadata": {},
   "outputs": [],
   "source": []
  },
  {
   "cell_type": "code",
   "execution_count": 47,
   "metadata": {},
   "outputs": [],
   "source": [
    "def graffik(cat):    \n",
    "    plt.figure(figsize=(14, 4))\n",
    "    plt.subplot(1, 2, 1)\n",
    "    sns.barplot(data=users_s[users_s['tariff'] == 'smart'].groupby('month').mean().reset_index(),\n",
    "            x='month', \n",
    "            y=cat,\n",
    "            dodge=False\n",
    "           )\n",
    "    plt.title('smart', fontsize=20)\n",
    "    plt.subplot(1, 2, 2)\n",
    "    sns.barplot(data=users_s[users_s['tariff'] == 'ultra'].groupby('month').mean().reset_index(),\n",
    "            x='month', \n",
    "            y=cat,\n",
    "            dodge=False\n",
    "           )\n",
    "    plt.title('ultra', fontsize=20)\n",
    "    plt.show()"
   ]
  },
  {
   "cell_type": "code",
   "execution_count": 48,
   "metadata": {},
   "outputs": [],
   "source": [
    "def histogr(cat,t1,t2):\n",
    "    plt.figure(figsize=(14, 4))\n",
    "    plt.hist(users_s[users_s['tariff'] == 'smart'].groupby('user_id').mean().reset_index()[cat], bins=15, color='c', edgecolor='k', alpha=0.5)\n",
    "    \n",
    "    plt.hist(users_s[users_s['tariff'] == 'ultra'].groupby('user_id').mean().reset_index()[cat], bins=15,color='g', edgecolor='k', alpha=0.5)\n",
    "    plt.vlines(t1,0, 40)\n",
    "    plt.vlines(t2,0, 40)\n",
    "    plt.show()\n"
   ]
  },
  {
   "cell_type": "code",
   "execution_count": 49,
   "metadata": {},
   "outputs": [
    {
     "data": {
      "text/html": [
       "<div>\n",
       "<style scoped>\n",
       "    .dataframe tbody tr th:only-of-type {\n",
       "        vertical-align: middle;\n",
       "    }\n",
       "\n",
       "    .dataframe tbody tr th {\n",
       "        vertical-align: top;\n",
       "    }\n",
       "\n",
       "    .dataframe thead th {\n",
       "        text-align: right;\n",
       "    }\n",
       "</style>\n",
       "<table border=\"1\" class=\"dataframe\">\n",
       "  <thead>\n",
       "    <tr style=\"text-align: right;\">\n",
       "      <th></th>\n",
       "      <th>user_id</th>\n",
       "      <th>month</th>\n",
       "      <th>messages_count</th>\n",
       "      <th>mb_used</th>\n",
       "      <th>duration</th>\n",
       "      <th>calls_count</th>\n",
       "      <th>bill</th>\n",
       "    </tr>\n",
       "  </thead>\n",
       "  <tbody>\n",
       "    <tr>\n",
       "      <td>count</td>\n",
       "      <td>951.000000</td>\n",
       "      <td>951.000000</td>\n",
       "      <td>951.000000</td>\n",
       "      <td>951.000000</td>\n",
       "      <td>951.000000</td>\n",
       "      <td>951.000000</td>\n",
       "      <td>951.000000</td>\n",
       "    </tr>\n",
       "    <tr>\n",
       "      <td>mean</td>\n",
       "      <td>1264.766562</td>\n",
       "      <td>8.235542</td>\n",
       "      <td>49.033649</td>\n",
       "      <td>19480.544690</td>\n",
       "      <td>545.451104</td>\n",
       "      <td>76.016824</td>\n",
       "      <td>2071.924290</td>\n",
       "    </tr>\n",
       "    <tr>\n",
       "      <td>std</td>\n",
       "      <td>140.413405</td>\n",
       "      <td>2.883937</td>\n",
       "      <td>46.890656</td>\n",
       "      <td>10135.971146</td>\n",
       "      <td>306.925754</td>\n",
       "      <td>42.403348</td>\n",
       "      <td>382.106872</td>\n",
       "    </tr>\n",
       "    <tr>\n",
       "      <td>min</td>\n",
       "      <td>1000.000000</td>\n",
       "      <td>1.000000</td>\n",
       "      <td>0.000000</td>\n",
       "      <td>0.000000</td>\n",
       "      <td>0.000000</td>\n",
       "      <td>1.000000</td>\n",
       "      <td>1950.000000</td>\n",
       "    </tr>\n",
       "    <tr>\n",
       "      <td>25%</td>\n",
       "      <td>1148.000000</td>\n",
       "      <td>6.000000</td>\n",
       "      <td>5.000000</td>\n",
       "      <td>11633.500000</td>\n",
       "      <td>310.000000</td>\n",
       "      <td>43.000000</td>\n",
       "      <td>1950.000000</td>\n",
       "    </tr>\n",
       "    <tr>\n",
       "      <td>50%</td>\n",
       "      <td>1281.000000</td>\n",
       "      <td>9.000000</td>\n",
       "      <td>39.000000</td>\n",
       "      <td>19374.000000</td>\n",
       "      <td>528.000000</td>\n",
       "      <td>75.000000</td>\n",
       "      <td>1950.000000</td>\n",
       "    </tr>\n",
       "    <tr>\n",
       "      <td>75%</td>\n",
       "      <td>1381.000000</td>\n",
       "      <td>11.000000</td>\n",
       "      <td>79.000000</td>\n",
       "      <td>26857.500000</td>\n",
       "      <td>756.500000</td>\n",
       "      <td>105.000000</td>\n",
       "      <td>1950.000000</td>\n",
       "    </tr>\n",
       "    <tr>\n",
       "      <td>max</td>\n",
       "      <td>1495.000000</td>\n",
       "      <td>12.000000</td>\n",
       "      <td>224.000000</td>\n",
       "      <td>49789.000000</td>\n",
       "      <td>1673.000000</td>\n",
       "      <td>244.000000</td>\n",
       "      <td>4800.000000</td>\n",
       "    </tr>\n",
       "  </tbody>\n",
       "</table>\n",
       "</div>"
      ],
      "text/plain": [
       "           user_id       month  messages_count       mb_used     duration  \\\n",
       "count   951.000000  951.000000      951.000000    951.000000   951.000000   \n",
       "mean   1264.766562    8.235542       49.033649  19480.544690   545.451104   \n",
       "std     140.413405    2.883937       46.890656  10135.971146   306.925754   \n",
       "min    1000.000000    1.000000        0.000000      0.000000     0.000000   \n",
       "25%    1148.000000    6.000000        5.000000  11633.500000   310.000000   \n",
       "50%    1281.000000    9.000000       39.000000  19374.000000   528.000000   \n",
       "75%    1381.000000   11.000000       79.000000  26857.500000   756.500000   \n",
       "max    1495.000000   12.000000      224.000000  49789.000000  1673.000000   \n",
       "\n",
       "       calls_count         bill  \n",
       "count   951.000000   951.000000  \n",
       "mean     76.016824  2071.924290  \n",
       "std      42.403348   382.106872  \n",
       "min       1.000000  1950.000000  \n",
       "25%      43.000000  1950.000000  \n",
       "50%      75.000000  1950.000000  \n",
       "75%     105.000000  1950.000000  \n",
       "max     244.000000  4800.000000  "
      ]
     },
     "execution_count": 49,
     "metadata": {},
     "output_type": "execute_result"
    }
   ],
   "source": [
    "users_s[users_s['tariff'] == 'ultra'].describe()"
   ]
  },
  {
   "cell_type": "markdown",
   "metadata": {},
   "source": [
    "#### Среднее:"
   ]
  },
  {
   "cell_type": "markdown",
   "metadata": {},
   "source": [
    "Сколько минут в месяц требуется абонентам?"
   ]
  },
  {
   "cell_type": "code",
   "execution_count": 50,
   "metadata": {},
   "outputs": [
    {
     "name": "stdout",
     "output_type": "stream",
     "text": [
      "Минут в среднем на тарифе smart: 419.0629779577148\n",
      "Минут в среднем на тарифе ultra: 545.4511041009464\n"
     ]
    }
   ],
   "source": [
    "print(\"Минут в среднем на тарифе smart:\",users_s[users_s['tariff'] == 'smart'].describe().loc['mean']['duration'])\n",
    "print(\"Минут в среднем на тарифе ultra:\",users_s[users_s['tariff'] == 'ultra'].describe().loc['mean']['duration'])"
   ]
  },
  {
   "cell_type": "code",
   "execution_count": 51,
   "metadata": {},
   "outputs": [
    {
     "data": {
      "image/png": "[encoded data removed]",
      "text/plain": [
       "<Figure size 1008x288 with 2 Axes>"
      ]
     },
     "metadata": {
      "needs_background": "light"
     },
     "output_type": "display_data"
    }
   ],
   "source": [
    "graffik('duration')"
   ]
  },
  {
   "cell_type": "code",
   "execution_count": 52,
   "metadata": {},
   "outputs": [
    {
     "data": {
      "image/png": "[encoded data removed]",
      "text/plain": [
       "<Figure size 1008x288 with 1 Axes>"
      ]
     },
     "metadata": {
      "needs_background": "light"
     },
     "output_type": "display_data"
    }
   ],
   "source": [
    "histogr('duration',tariffs['minutes_included'][0],tariffs['minutes_included'][1])"
   ]
  },
  {
   "cell_type": "markdown",
   "metadata": {},
   "source": [
    "Юзеры на тарифе smart укладываются в лимит, пользователи на тарифе ultra в среднем сильно недобирают по длительности."
   ]
  },
  {
   "cell_type": "markdown",
   "metadata": {},
   "source": [
    "Сколько мегабайт требуется в месяц абонентам?"
   ]
  },
  {
   "cell_type": "code",
   "execution_count": 53,
   "metadata": {},
   "outputs": [
    {
     "name": "stdout",
     "output_type": "stream",
     "text": [
      "Мегабайт в среднем на тарифе smart: 16230.166891587944\n",
      "Мегабайт в среднем на тарифе ultra: 19480.544689800212\n"
     ]
    }
   ],
   "source": [
    "print(\"Мегабайт в среднем на тарифе smart:\",users_s[users_s['tariff'] == 'smart'].describe().loc['mean']['mb_used'])\n",
    "print(\"Мегабайт в среднем на тарифе ultra:\",users_s[users_s['tariff'] == 'ultra'].describe().loc['mean']['mb_used'])"
   ]
  },
  {
   "cell_type": "code",
   "execution_count": 54,
   "metadata": {
    "scrolled": true
   },
   "outputs": [
    {
     "data": {
      "image/png": "[encoded data removed]",
      "text/plain": [
       "<Figure size 1008x288 with 2 Axes>"
      ]
     },
     "metadata": {
      "needs_background": "light"
     },
     "output_type": "display_data"
    }
   ],
   "source": [
    "graffik('mb_used')"
   ]
  },
  {
   "cell_type": "code",
   "execution_count": 55,
   "metadata": {},
   "outputs": [
    {
     "data": {
      "image/png": "[encoded data removed]",
      "text/plain": [
       "<Figure size 1008x288 with 1 Axes>"
      ]
     },
     "metadata": {
      "needs_background": "light"
     },
     "output_type": "display_data"
    }
   ],
   "source": [
    "histogr('mb_used',tariffs['mb_per_month_included'][0],tariffs['mb_per_month_included'][1])"
   ]
  },
  {
   "cell_type": "markdown",
   "metadata": {},
   "source": [
    "Юзеры на тарифе smart слегка перебирают лимит, на тарифе ultra ожидаемо недобирают."
   ]
  },
  {
   "cell_type": "markdown",
   "metadata": {},
   "source": [
    "Сколько сообщений в среднем требуется абонентам?"
   ]
  },
  {
   "cell_type": "code",
   "execution_count": 56,
   "metadata": {},
   "outputs": [
    {
     "name": "stdout",
     "output_type": "stream",
     "text": [
      "Сообщений в среднем на тарифе smart: 33.396311291048136\n",
      "Сообщений в среднем на тарифе ultra: 49.03364879074658\n"
     ]
    }
   ],
   "source": [
    "print(\"Сообщений в среднем на тарифе smart:\",users_s[users_s['tariff'] == 'smart'].describe().loc['mean']['messages_count'])\n",
    "print(\"Сообщений в среднем на тарифе ultra:\",users_s[users_s['tariff'] == 'ultra'].describe().loc['mean']['messages_count'])"
   ]
  },
  {
   "cell_type": "code",
   "execution_count": 57,
   "metadata": {},
   "outputs": [
    {
     "data": {
      "image/png": "[encoded data removed]",
      "text/plain": [
       "<Figure size 1008x288 with 2 Axes>"
      ]
     },
     "metadata": {
      "needs_background": "light"
     },
     "output_type": "display_data"
    }
   ],
   "source": [
    "graffik('messages_count')"
   ]
  },
  {
   "cell_type": "code",
   "execution_count": 58,
   "metadata": {},
   "outputs": [
    {
     "data": {
      "image/png": "[encoded data removed]",
      "text/plain": [
       "<Figure size 1008x288 with 1 Axes>"
      ]
     },
     "metadata": {
      "needs_background": "light"
     },
     "output_type": "display_data"
    }
   ],
   "source": [
    "histogr('messages_count',tariffs['messages_included'][0],tariffs['messages_included'][1])"
   ]
  },
  {
   "cell_type": "markdown",
   "metadata": {},
   "source": [
    "Сообщений не слишком много, на тарифе ультра чуть больше."
   ]
  },
  {
   "cell_type": "markdown",
   "metadata": {},
   "source": [
    "#### Стандартное отклонение:"
   ]
  },
  {
   "cell_type": "code",
   "execution_count": 59,
   "metadata": {},
   "outputs": [
    {
     "name": "stdout",
     "output_type": "stream",
     "text": [
      "Стандартное отклонение по минутам на тарифе smart: 189.3256177894154\n",
      "Стандартное отклонение по минутам на тарифе ultra: 306.9257538821858\n"
     ]
    }
   ],
   "source": [
    "print(\"Стандартное отклонение по минутам на тарифе smart:\",users_s[users_s['tariff'] == 'smart'].describe().loc['std']['duration'])\n",
    "print(\"Стандартное отклонение по минутам на тарифе ultra:\",users_s[users_s['tariff'] == 'ultra'].describe().loc['std']['duration'])"
   ]
  },
  {
   "cell_type": "code",
   "execution_count": 60,
   "metadata": {},
   "outputs": [
    {
     "name": "stdout",
     "output_type": "stream",
     "text": [
      "Стандартное отклонение по мегабайтам на тарифе smart: 5883.36304380904\n",
      "Стандартное отклонение по мегабайтам на тарифе ultra: 10135.971146360018\n"
     ]
    }
   ],
   "source": [
    "print(\"Стандартное отклонение по мегабайтам на тарифе smart:\",users_s[users_s['tariff'] == 'smart'].describe().loc['std']['mb_used'])\n",
    "print(\"Стандартное отклонение по мегабайтам на тарифе ultra:\",users_s[users_s['tariff'] == 'ultra'].describe().loc['std']['mb_used'])"
   ]
  },
  {
   "cell_type": "code",
   "execution_count": 61,
   "metadata": {},
   "outputs": [
    {
     "name": "stdout",
     "output_type": "stream",
     "text": [
      "Стандартное отклонение по сообщениям на тарифе smart: 28.259437219588445\n",
      "Стандартное отклонение по сообщениям на тарифе ultra: 46.89065582191353\n"
     ]
    }
   ],
   "source": [
    "print(\"Стандартное отклонение по сообщениям на тарифе smart:\",users_s[users_s['tariff'] == 'smart'].describe().loc['std']['messages_count'])\n",
    "print(\"Стандартное отклонение по сообщениям на тарифе ultra:\",users_s[users_s['tariff'] == 'ultra'].describe().loc['std']['messages_count'])"
   ]
  },
  {
   "cell_type": "markdown",
   "metadata": {},
   "source": [
    "#### Дисперсия:"
   ]
  },
  {
   "cell_type": "code",
   "execution_count": 62,
   "metadata": {},
   "outputs": [
    {
     "name": "stdout",
     "output_type": "stream",
     "text": [
      "Дисперсия по сообщениям на тарифе smart: 798.5957919678607\n",
      "Дисперсия по сообщениям на тарифе ultra: 2198.7336034091536\n"
     ]
    }
   ],
   "source": [
    "print('Дисперсия по сообщениям на тарифе smart:',users_s[users_s['tariff'] == 'smart'].describe().loc['std']['messages_count']**2)\n",
    "print('Дисперсия по сообщениям на тарифе ultra:',users_s[users_s['tariff'] == 'ultra'].describe().loc['std']['messages_count']**2)"
   ]
  },
  {
   "cell_type": "code",
   "execution_count": 63,
   "metadata": {},
   "outputs": [
    {
     "name": "stdout",
     "output_type": "stream",
     "text": [
      "Дисперсия по мегабайтам на тарифе smart: 34613960.705257975\n",
      "Дисперсия по мегабайтам на тарифе ultra: 102737911.07984282\n"
     ]
    }
   ],
   "source": [
    "print('Дисперсия по мегабайтам на тарифе smart:',users_s[users_s['tariff'] == 'smart'].describe().loc['std']['mb_used']**2)\n",
    "print('Дисперсия по мегабайтам на тарифе ultra:',users_s[users_s['tariff'] == 'ultra'].describe().loc['std']['mb_used']**2)"
   ]
  },
  {
   "cell_type": "code",
   "execution_count": 64,
   "metadata": {},
   "outputs": [
    {
     "name": "stdout",
     "output_type": "stream",
     "text": [
      "Дисперсия по минутам на тарифе smart: 35844.1895513438\n",
      "Дисперсия по минутам на тарифе ultra: 94203.41839614809\n"
     ]
    }
   ],
   "source": [
    "print('Дисперсия по минутам на тарифе smart:',users_s[users_s['tariff'] == 'smart'].describe().loc['std']['duration']**2)\n",
    "print('Дисперсия по минутам на тарифе ultra:',users_s[users_s['tariff'] == 'ultra'].describe().loc['std']['duration']**2)"
   ]
  },
  {
   "cell_type": "markdown",
   "metadata": {},
   "source": [
    "Количество юзеров по тарифам:"
   ]
  },
  {
   "cell_type": "code",
   "execution_count": 65,
   "metadata": {},
   "outputs": [
    {
     "data": {
      "text/html": [
       "<div>\n",
       "<style scoped>\n",
       "    .dataframe tbody tr th:only-of-type {\n",
       "        vertical-align: middle;\n",
       "    }\n",
       "\n",
       "    .dataframe tbody tr th {\n",
       "        vertical-align: top;\n",
       "    }\n",
       "\n",
       "    .dataframe thead th {\n",
       "        text-align: right;\n",
       "    }\n",
       "</style>\n",
       "<table border=\"1\" class=\"dataframe\">\n",
       "  <thead>\n",
       "    <tr style=\"text-align: right;\">\n",
       "      <th></th>\n",
       "      <th>user_id</th>\n",
       "      <th>age</th>\n",
       "      <th>user_count</th>\n",
       "    </tr>\n",
       "    <tr>\n",
       "      <th>tariff</th>\n",
       "      <th></th>\n",
       "      <th></th>\n",
       "      <th></th>\n",
       "    </tr>\n",
       "  </thead>\n",
       "  <tbody>\n",
       "    <tr>\n",
       "      <td>smart</td>\n",
       "      <td>436691</td>\n",
       "      <td>16306</td>\n",
       "      <td>351</td>\n",
       "    </tr>\n",
       "    <tr>\n",
       "      <td>ultra</td>\n",
       "      <td>188059</td>\n",
       "      <td>6988</td>\n",
       "      <td>149</td>\n",
       "    </tr>\n",
       "  </tbody>\n",
       "</table>\n",
       "</div>"
      ],
      "text/plain": [
       "        user_id    age  user_count\n",
       "tariff                            \n",
       "smart    436691  16306         351\n",
       "ultra    188059   6988         149"
      ]
     },
     "execution_count": 65,
     "metadata": {},
     "output_type": "execute_result"
    }
   ],
   "source": [
    "users.groupby('tariff').sum()"
   ]
  },
  {
   "cell_type": "markdown",
   "metadata": {},
   "source": [
    "## <a name=\"Step4\"></a> 4. Проверка гипотез:\n",
    "\n",
    "[Наверх](#All)"
   ]
  },
  {
   "cell_type": "markdown",
   "metadata": {},
   "source": [
    "* средняя выручка пользователей тарифов «Ультра» и «Смарт» различается\n",
    "* средняя выручка пользователей из Москвы отличается от выручки пользователей из других регионов"
   ]
  },
  {
   "cell_type": "markdown",
   "metadata": {},
   "source": [
    "Выборки независимы между собой, можно использовать t-критерий."
   ]
  },
  {
   "cell_type": "markdown",
   "metadata": {},
   "source": [
    "Проверим первую гипотезу. Сформулируем гипотезу:\n",
    "\n",
    "* H0: средняя выручка пользователей тарифов «Ультра» и «Смарт» не различается\n",
    "* H1: средняя выручка пользователей тарифов «Ультра» и «Смарт» различается"
   ]
  },
  {
   "cell_type": "code",
   "execution_count": 66,
   "metadata": {},
   "outputs": [],
   "source": [
    "smart = users_s[users_s['tariff'] == 'smart']['bill']\n",
    "ultra = users_s[users_s['tariff'] == 'ultra']['bill']"
   ]
  },
  {
   "cell_type": "code",
   "execution_count": 67,
   "metadata": {},
   "outputs": [],
   "source": [
    "alpha = 0.05"
   ]
  },
  {
   "cell_type": "code",
   "execution_count": 68,
   "metadata": {},
   "outputs": [],
   "source": [
    "results = st.ttest_ind(ultra, smart)"
   ]
  },
  {
   "cell_type": "code",
   "execution_count": 69,
   "metadata": {},
   "outputs": [
    {
     "name": "stdout",
     "output_type": "stream",
     "text": [
      "p-значение: 3.824107073278515e-153\n",
      "Отвергаем нулевую гипотезу\n"
     ]
    }
   ],
   "source": [
    "print('p-значение:', results.pvalue)\n",
    "\n",
    "if (results.pvalue < alpha):\n",
    "    print(\"Отвергаем нулевую гипотезу\")\n",
    "else:\n",
    "    print(\"Не получилось отвергнуть нулевую гипотезу\")"
   ]
  },
  {
   "cell_type": "markdown",
   "metadata": {},
   "source": [
    "Средняя выручка отличается в достаточной степени что бы быть не случайной."
   ]
  },
  {
   "cell_type": "markdown",
   "metadata": {},
   "source": [
    "Проверим первую гипотезу. Сформулируем гипотезу:\n",
    "\n",
    "* H0: средняя выручка пользователей из Москвы не отличается от выручки пользователей из других регионов\n",
    "* H1: средняя выручка пользователей из Москвы отличается от выручки пользователей из других регионов"
   ]
  },
  {
   "cell_type": "code",
   "execution_count": 70,
   "metadata": {},
   "outputs": [],
   "source": [
    "other = users_s[users_s['city'] != 'Москва']['bill']\n",
    "moscow = users_s[users_s['city'] == 'Москва']['bill']"
   ]
  },
  {
   "cell_type": "code",
   "execution_count": 71,
   "metadata": {},
   "outputs": [],
   "source": [
    "results = st.ttest_ind(moscow, other)\n",
    "alpha = 0.05"
   ]
  },
  {
   "cell_type": "code",
   "execution_count": 72,
   "metadata": {},
   "outputs": [
    {
     "name": "stdout",
     "output_type": "stream",
     "text": [
      "p-значение: 0.4516335152984994\n",
      "Не получилось отвергнуть нулевую гипотезу\n"
     ]
    }
   ],
   "source": [
    "print('p-значение:', results.pvalue)\n",
    "\n",
    "if (results.pvalue < alpha):\n",
    "    print(\"Отвергаем нулевую гипотезу\")\n",
    "else:\n",
    "    print(\"Не получилось отвергнуть нулевую гипотезу\")"
   ]
  },
  {
   "cell_type": "markdown",
   "metadata": {},
   "source": [
    "Средняя московская выручка недостаточно сильно отличается от средней выручки из регионов."
   ]
  },
  {
   "cell_type": "markdown",
   "metadata": {},
   "source": [
    "## <a name=\"Step5\"></a> 5. Общий вывод\n",
    "\n",
    "[Наверх](#All)"
   ]
  },
  {
   "cell_type": "markdown",
   "metadata": {},
   "source": [
    "* Нельзя ответить какой тариф лучше, разным пользователям нужен разный обьем услуг.\n",
    "\n",
    "* На тарифе smart пользователи по минутам в среднем подходят к границе лимита и постоянно слегка перебирают лимиты интернета, сообщениями мало кто пользуется. \n",
    "   \n",
    "* На тарифе ultra пользователи по минутам прилично недобирают и небобирают около 10 гигабайт интернета, сообщения тоже мало кому интересны.\n",
    "\n",
    "* Оператору как мне кажется следует пересмотреть свои тарифы, добавить минут и мегабайт в тариф smart, либо сделать подобный smart'у тариф дороже но с 25-50% увеличением лимитов, пользователи тарифа ultra сильно недобирают до лимитов и это тоже может показаться кому-то избыточным и пользователи пойдут искать более оптимальный тариф к конкурентам.\n",
    "\n",
    "* Средняя выручка по пользователям тарифов ultra и smart различна.\n",
    "\n",
    "* Средняя выручка из Москвы и регионов примерно похожа.\n",
    "\n",
    "* Открытые личные данные в датасетах - моветон и следует позаботится об их удалении."
   ]
  }
 ],
 "metadata": {
  "kernelspec": {
   "display_name": "Python 3",
   "language": "python",
   "name": "python3"
  },
  "language_info": {
   "codemirror_mode": {
    "name": "ipython",
    "version": 3
   },
   "file_extension": ".py",
   "mimetype": "text/x-python",
   "name": "python",
   "nbconvert_exporter": "python",
   "pygments_lexer": "ipython3",
   "version": "3.8.0"
  },
  "toc": {
   "base_numbering": 1,
   "nav_menu": {},
   "number_sections": true,
   "sideBar": true,
   "skip_h1_title": true,
   "title_cell": "Table of Contents",
   "title_sidebar": "Contents",
   "toc_cell": false,
   "toc_position": {},
   "toc_section_display": true,
   "toc_window_display": false
  }
 },
 "nbformat": 4,
 "nbformat_minor": 4
}
